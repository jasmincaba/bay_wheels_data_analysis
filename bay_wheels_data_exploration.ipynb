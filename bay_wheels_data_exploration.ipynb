{
 "cells": [
  {
   "cell_type": "markdown",
   "metadata": {},
   "source": [
    "# Bay Wheels's trip data Analysis and Visualization\n",
    "## by Jasmin Cabaravdic\n",
    "\n",
    "## Introduction\n",
    "\n",
    "> Bay Wheels's trip data includes information about individual rides made in a bike-sharing system covering the greater San Francisco Bay area. Bay Wheels is the first regional and large-scale bicycle sharing system deployed in California and on the West Coast of the United States. It was established as Bay Area Bike Share in August 2013. As of January 2018, the Bay Wheels system had over 2,600 bicycles in 262 stations across San Francisco, East Bay and San Jose. The system is expected to expand to 7,000 bicycles around 540 stations in San Francisco, Oakland, Berkeley, Emeryville, and San Jose.( source: Wikipedia)"
   ]
  },
  {
   "cell_type": "markdown",
   "metadata": {},
   "source": [
    "### Dataset <b>\n",
    "    \n",
    "> This data set includes information about individual rides made in a bike-sharing system covering the greater San Francisco Bay area. All data is available <a href=\"https://s3.amazonaws.com/baywheels-data/index.html\">here</a> as monthly datasets. Data for 2019 year will be downloaded and merged to one dataset.\n",
    "\n",
    "> Each trip contains:\n",
    "> - Trip Duration (seconds)\n",
    "> - Start Time and Date\n",
    "> - End Time and Date\n",
    "> - Start Station ID\n",
    "> - Start Station Name\n",
    "> - Start Station Latitude\n",
    "> - Start Station Longitude\n",
    "> - End Station ID\n",
    "> - End Station Name\n",
    "> - End Station Latitude\n",
    "> - End Station Longitude\n",
    "> - Bike ID\n",
    "> - User Type (Subscriber or Customer – “Subscriber” = Member or “Customer” = Casual)"
   ]
  },
  {
   "cell_type": "markdown",
   "metadata": {},
   "source": [
    "### Goal<b>\n",
    "    \n",
    "> Main goal of this project is to use data visualization in and after wrangling process to understand the patterns and relationships present in dataset. Main features for investigation are user type and time users ride a bike, as well as relation \n",
    "of these features with duration of ride."
   ]
  },
  {
   "cell_type": "code",
   "execution_count": 1,
   "metadata": {},
   "outputs": [],
   "source": [
    "# import all packages and set plots to be embedded inline\n",
    "import zipfile\n",
    "import numpy as np\n",
    "import pandas as pd\n",
    "import matplotlib.pyplot as plt\n",
    "import seaborn as sns\n",
    "import os\n",
    "import glob\n",
    "\n",
    "%matplotlib inline"
   ]
  },
  {
   "cell_type": "markdown",
   "metadata": {},
   "source": [
    "### Gather data"
   ]
  },
  {
   "cell_type": "code",
   "execution_count": 2,
   "metadata": {},
   "outputs": [
    {
     "data": {
      "text/plain": [
       "['201901-fordgobike-tripdata.csv.zip',\n",
       " '201902-fordgobike-tripdata.csv.zip',\n",
       " '201903-fordgobike-tripdata.csv.zip',\n",
       " '201904-fordgobike-tripdata.csv.zip',\n",
       " '201905-baywheels-tripdata.csv.zip',\n",
       " '201906-baywheels-tripdata.csv.zip',\n",
       " '201907-baywheels-tripdata.csv.zip',\n",
       " '201908-baywheels-tripdata.csv.zip',\n",
       " '201909-baywheels-tripdata.csv.zip',\n",
       " '201910-baywheels-tripdata.csv.zip',\n",
       " '201911-baywheels-tripdata.csv.zip',\n",
       " '201912-baywheels-tripdata.csv.zip']"
      ]
     },
     "execution_count": 2,
     "metadata": {},
     "output_type": "execute_result"
    }
   ],
   "source": [
    "# list all files in data directory\n",
    "os.listdir(\"data/\")"
   ]
  },
  {
   "cell_type": "code",
   "execution_count": 3,
   "metadata": {},
   "outputs": [],
   "source": [
    "# unzip all files\n",
    "zip_files = os.listdir(\"data/\")\n",
    "for i in zip_files:\n",
    "        with zipfile.ZipFile(os.path.join('data/', i), 'r') as myzip:\n",
    "            myzip.extractall('data/')"
   ]
  },
  {
   "cell_type": "code",
   "execution_count": 4,
   "metadata": {},
   "outputs": [
    {
     "name": "stderr",
     "output_type": "stream",
     "text": [
      "C:\\ProgramData\\Anaconda3\\lib\\site-packages\\IPython\\core\\interactiveshell.py:3063: DtypeWarning: Columns (14) have mixed types.Specify dtype option on import or set low_memory=False.\n",
      "  interactivity=interactivity, compiler=compiler, result=result)\n",
      "C:\\ProgramData\\Anaconda3\\lib\\site-packages\\IPython\\core\\interactiveshell.py:3063: DtypeWarning: Columns (13,14) have mixed types.Specify dtype option on import or set low_memory=False.\n",
      "  interactivity=interactivity, compiler=compiler, result=result)\n",
      "C:\\ProgramData\\Anaconda3\\lib\\site-packages\\IPython\\core\\interactiveshell.py:3063: DtypeWarning: Columns (13) have mixed types.Specify dtype option on import or set low_memory=False.\n",
      "  interactivity=interactivity, compiler=compiler, result=result)\n"
     ]
    }
   ],
   "source": [
    "# load all files to one dataframe\n",
    "filenames = glob.glob(\"data/*.csv\")\n",
    "dfs = []\n",
    "\n",
    "for i in filenames:\n",
    "    dfs.append(pd.read_csv(i))\n",
    "    \n",
    "df = pd.concat(dfs, ignore_index = True)"
   ]
  },
  {
   "cell_type": "code",
   "execution_count": 5,
   "metadata": {},
   "outputs": [],
   "source": [
    "# save dataframe to working directory\n",
    "df.to_csv(\"baywheel_bike_2019.csv\", index = False)"
   ]
  },
  {
   "cell_type": "code",
   "execution_count": null,
   "metadata": {},
   "outputs": [],
   "source": []
  },
  {
   "cell_type": "markdown",
   "metadata": {},
   "source": [
    "### Asses data"
   ]
  },
  {
   "cell_type": "code",
   "execution_count": 6,
   "metadata": {},
   "outputs": [],
   "source": [
    "df_all = pd.read_csv(\"baywheel_bike_2019.csv\")"
   ]
  },
  {
   "cell_type": "code",
   "execution_count": 7,
   "metadata": {},
   "outputs": [
    {
     "name": "stdout",
     "output_type": "stream",
     "text": [
      "<class 'pandas.core.frame.DataFrame'>\n",
      "RangeIndex: 2506983 entries, 0 to 2506982\n",
      "Data columns (total 15 columns):\n",
      " #   Column                   Dtype  \n",
      "---  ------                   -----  \n",
      " 0   duration_sec             int64  \n",
      " 1   start_time               object \n",
      " 2   end_time                 object \n",
      " 3   start_station_id         float64\n",
      " 4   start_station_name       object \n",
      " 5   start_station_latitude   float64\n",
      " 6   start_station_longitude  float64\n",
      " 7   end_station_id           float64\n",
      " 8   end_station_name         object \n",
      " 9   end_station_latitude     float64\n",
      " 10  end_station_longitude    float64\n",
      " 11  bike_id                  int64  \n",
      " 12  user_type                object \n",
      " 13  bike_share_for_all_trip  object \n",
      " 14  rental_access_method     object \n",
      "dtypes: float64(6), int64(2), object(7)\n",
      "memory usage: 286.9+ MB\n"
     ]
    }
   ],
   "source": [
    "df_all.info()"
   ]
  },
  {
   "cell_type": "code",
   "execution_count": 8,
   "metadata": {},
   "outputs": [
    {
     "data": {
      "text/html": [
       "<div>\n",
       "<style scoped>\n",
       "    .dataframe tbody tr th:only-of-type {\n",
       "        vertical-align: middle;\n",
       "    }\n",
       "\n",
       "    .dataframe tbody tr th {\n",
       "        vertical-align: top;\n",
       "    }\n",
       "\n",
       "    .dataframe thead th {\n",
       "        text-align: right;\n",
       "    }\n",
       "</style>\n",
       "<table border=\"1\" class=\"dataframe\">\n",
       "  <thead>\n",
       "    <tr style=\"text-align: right;\">\n",
       "      <th></th>\n",
       "      <th>duration_sec</th>\n",
       "      <th>start_time</th>\n",
       "      <th>end_time</th>\n",
       "      <th>start_station_id</th>\n",
       "      <th>start_station_name</th>\n",
       "      <th>start_station_latitude</th>\n",
       "      <th>start_station_longitude</th>\n",
       "      <th>end_station_id</th>\n",
       "      <th>end_station_name</th>\n",
       "      <th>end_station_latitude</th>\n",
       "      <th>end_station_longitude</th>\n",
       "      <th>bike_id</th>\n",
       "      <th>user_type</th>\n",
       "      <th>bike_share_for_all_trip</th>\n",
       "      <th>rental_access_method</th>\n",
       "    </tr>\n",
       "  </thead>\n",
       "  <tbody>\n",
       "    <tr>\n",
       "      <th>2121049</th>\n",
       "      <td>764</td>\n",
       "      <td>2019-10-07 15:47:43.2310</td>\n",
       "      <td>2019-10-07 16:00:28.0720</td>\n",
       "      <td>350.0</td>\n",
       "      <td>8th St at Brannan St</td>\n",
       "      <td>37.771431</td>\n",
       "      <td>-122.405787</td>\n",
       "      <td>15.0</td>\n",
       "      <td>San Francisco Ferry Building (Harry Bridges Pl...</td>\n",
       "      <td>37.795392</td>\n",
       "      <td>-122.394203</td>\n",
       "      <td>10140</td>\n",
       "      <td>Subscriber</td>\n",
       "      <td>No</td>\n",
       "      <td>NaN</td>\n",
       "    </tr>\n",
       "    <tr>\n",
       "      <th>2413897</th>\n",
       "      <td>579</td>\n",
       "      <td>2019-12-13 14:44:36.5230</td>\n",
       "      <td>2019-12-13 14:54:15.7580</td>\n",
       "      <td>216.0</td>\n",
       "      <td>San Pablo Ave at 27th St</td>\n",
       "      <td>37.817827</td>\n",
       "      <td>-122.275698</td>\n",
       "      <td>232.0</td>\n",
       "      <td>MLK Jr Way at 14th St</td>\n",
       "      <td>37.806163</td>\n",
       "      <td>-122.276040</td>\n",
       "      <td>928</td>\n",
       "      <td>Subscriber</td>\n",
       "      <td>NaN</td>\n",
       "      <td>NaN</td>\n",
       "    </tr>\n",
       "    <tr>\n",
       "      <th>1738961</th>\n",
       "      <td>282</td>\n",
       "      <td>2019-09-26 21:35:16.9100</td>\n",
       "      <td>2019-09-26 21:39:59.7610</td>\n",
       "      <td>176.0</td>\n",
       "      <td>MacArthur BART Station</td>\n",
       "      <td>37.828410</td>\n",
       "      <td>-122.266315</td>\n",
       "      <td>175.0</td>\n",
       "      <td>49th St at Telegraph Ave</td>\n",
       "      <td>37.835946</td>\n",
       "      <td>-122.262366</td>\n",
       "      <td>3001</td>\n",
       "      <td>Subscriber</td>\n",
       "      <td>No</td>\n",
       "      <td>NaN</td>\n",
       "    </tr>\n",
       "    <tr>\n",
       "      <th>309414</th>\n",
       "      <td>256</td>\n",
       "      <td>2019-02-11 22:33:04.0070</td>\n",
       "      <td>2019-02-11 22:37:20.2570</td>\n",
       "      <td>267.0</td>\n",
       "      <td>Derby St at College Ave</td>\n",
       "      <td>37.861804</td>\n",
       "      <td>-122.253569</td>\n",
       "      <td>253.0</td>\n",
       "      <td>Haste St at College Ave</td>\n",
       "      <td>37.866418</td>\n",
       "      <td>-122.253799</td>\n",
       "      <td>5115</td>\n",
       "      <td>Subscriber</td>\n",
       "      <td>No</td>\n",
       "      <td>NaN</td>\n",
       "    </tr>\n",
       "    <tr>\n",
       "      <th>2209521</th>\n",
       "      <td>226</td>\n",
       "      <td>2019-11-21 12:46:51.3930</td>\n",
       "      <td>2019-11-21 12:50:38.2910</td>\n",
       "      <td>44.0</td>\n",
       "      <td>Civic Center/UN Plaza BART Station (Market St ...</td>\n",
       "      <td>37.781074</td>\n",
       "      <td>-122.411738</td>\n",
       "      <td>3.0</td>\n",
       "      <td>Powell St BART Station (Market St at 4th St)</td>\n",
       "      <td>37.786375</td>\n",
       "      <td>-122.404904</td>\n",
       "      <td>9934</td>\n",
       "      <td>Subscriber</td>\n",
       "      <td>No</td>\n",
       "      <td>NaN</td>\n",
       "    </tr>\n",
       "    <tr>\n",
       "      <th>979499</th>\n",
       "      <td>695</td>\n",
       "      <td>2019-05-12 22:49:25.4170</td>\n",
       "      <td>2019-05-12 23:01:00.8440</td>\n",
       "      <td>44.0</td>\n",
       "      <td>Civic Center/UN Plaza BART Station (Market St ...</td>\n",
       "      <td>37.781074</td>\n",
       "      <td>-122.411738</td>\n",
       "      <td>11.0</td>\n",
       "      <td>Davis St at Jackson St</td>\n",
       "      <td>37.797280</td>\n",
       "      <td>-122.398436</td>\n",
       "      <td>2299</td>\n",
       "      <td>Subscriber</td>\n",
       "      <td>No</td>\n",
       "      <td>NaN</td>\n",
       "    </tr>\n",
       "    <tr>\n",
       "      <th>1425479</th>\n",
       "      <td>376</td>\n",
       "      <td>2019-07-28 21:45:55</td>\n",
       "      <td>2019-07-28 21:52:12</td>\n",
       "      <td>NaN</td>\n",
       "      <td>NaN</td>\n",
       "      <td>37.343064</td>\n",
       "      <td>-121.889489</td>\n",
       "      <td>NaN</td>\n",
       "      <td>NaN</td>\n",
       "      <td>37.340477</td>\n",
       "      <td>-121.895644</td>\n",
       "      <td>953646</td>\n",
       "      <td>Customer</td>\n",
       "      <td>NaN</td>\n",
       "      <td>clipper</td>\n",
       "    </tr>\n",
       "    <tr>\n",
       "      <th>1451785</th>\n",
       "      <td>942</td>\n",
       "      <td>2019-07-22 07:39:35</td>\n",
       "      <td>2019-07-22 07:55:18</td>\n",
       "      <td>81.0</td>\n",
       "      <td>Berry St at 4th St</td>\n",
       "      <td>37.775880</td>\n",
       "      <td>-122.393170</td>\n",
       "      <td>390.0</td>\n",
       "      <td>Indiana St at Cesar Chavez St</td>\n",
       "      <td>37.750434</td>\n",
       "      <td>-122.390447</td>\n",
       "      <td>741519</td>\n",
       "      <td>Subscriber</td>\n",
       "      <td>NaN</td>\n",
       "      <td>app</td>\n",
       "    </tr>\n",
       "  </tbody>\n",
       "</table>\n",
       "</div>"
      ],
      "text/plain": [
       "         duration_sec                start_time                  end_time  \\\n",
       "2121049           764  2019-10-07 15:47:43.2310  2019-10-07 16:00:28.0720   \n",
       "2413897           579  2019-12-13 14:44:36.5230  2019-12-13 14:54:15.7580   \n",
       "1738961           282  2019-09-26 21:35:16.9100  2019-09-26 21:39:59.7610   \n",
       "309414            256  2019-02-11 22:33:04.0070  2019-02-11 22:37:20.2570   \n",
       "2209521           226  2019-11-21 12:46:51.3930  2019-11-21 12:50:38.2910   \n",
       "979499            695  2019-05-12 22:49:25.4170  2019-05-12 23:01:00.8440   \n",
       "1425479           376       2019-07-28 21:45:55       2019-07-28 21:52:12   \n",
       "1451785           942       2019-07-22 07:39:35       2019-07-22 07:55:18   \n",
       "\n",
       "         start_station_id                                 start_station_name  \\\n",
       "2121049             350.0                               8th St at Brannan St   \n",
       "2413897             216.0                           San Pablo Ave at 27th St   \n",
       "1738961             176.0                             MacArthur BART Station   \n",
       "309414              267.0                            Derby St at College Ave   \n",
       "2209521              44.0  Civic Center/UN Plaza BART Station (Market St ...   \n",
       "979499               44.0  Civic Center/UN Plaza BART Station (Market St ...   \n",
       "1425479               NaN                                                NaN   \n",
       "1451785              81.0                                 Berry St at 4th St   \n",
       "\n",
       "         start_station_latitude  start_station_longitude  end_station_id  \\\n",
       "2121049               37.771431              -122.405787            15.0   \n",
       "2413897               37.817827              -122.275698           232.0   \n",
       "1738961               37.828410              -122.266315           175.0   \n",
       "309414                37.861804              -122.253569           253.0   \n",
       "2209521               37.781074              -122.411738             3.0   \n",
       "979499                37.781074              -122.411738            11.0   \n",
       "1425479               37.343064              -121.889489             NaN   \n",
       "1451785               37.775880              -122.393170           390.0   \n",
       "\n",
       "                                          end_station_name  \\\n",
       "2121049  San Francisco Ferry Building (Harry Bridges Pl...   \n",
       "2413897                              MLK Jr Way at 14th St   \n",
       "1738961                           49th St at Telegraph Ave   \n",
       "309414                             Haste St at College Ave   \n",
       "2209521       Powell St BART Station (Market St at 4th St)   \n",
       "979499                              Davis St at Jackson St   \n",
       "1425479                                                NaN   \n",
       "1451785                      Indiana St at Cesar Chavez St   \n",
       "\n",
       "         end_station_latitude  end_station_longitude  bike_id   user_type  \\\n",
       "2121049             37.795392            -122.394203    10140  Subscriber   \n",
       "2413897             37.806163            -122.276040      928  Subscriber   \n",
       "1738961             37.835946            -122.262366     3001  Subscriber   \n",
       "309414              37.866418            -122.253799     5115  Subscriber   \n",
       "2209521             37.786375            -122.404904     9934  Subscriber   \n",
       "979499              37.797280            -122.398436     2299  Subscriber   \n",
       "1425479             37.340477            -121.895644   953646    Customer   \n",
       "1451785             37.750434            -122.390447   741519  Subscriber   \n",
       "\n",
       "        bike_share_for_all_trip rental_access_method  \n",
       "2121049                      No                  NaN  \n",
       "2413897                     NaN                  NaN  \n",
       "1738961                      No                  NaN  \n",
       "309414                       No                  NaN  \n",
       "2209521                      No                  NaN  \n",
       "979499                       No                  NaN  \n",
       "1425479                     NaN              clipper  \n",
       "1451785                     NaN                  app  "
      ]
     },
     "execution_count": 8,
     "metadata": {},
     "output_type": "execute_result"
    }
   ],
   "source": [
    "df_all.sample(8)"
   ]
  },
  {
   "cell_type": "code",
   "execution_count": 9,
   "metadata": {},
   "outputs": [
    {
     "data": {
      "text/plain": [
       "duration_sec                     0\n",
       "start_time                       0\n",
       "end_time                         0\n",
       "start_station_id             80734\n",
       "start_station_name           80133\n",
       "start_station_latitude           0\n",
       "start_station_longitude          0\n",
       "end_station_id               82902\n",
       "end_station_name             82350\n",
       "end_station_latitude             0\n",
       "end_station_longitude            0\n",
       "bike_id                          0\n",
       "user_type                        0\n",
       "bike_share_for_all_trip     243259\n",
       "rental_access_method       2386145\n",
       "dtype: int64"
      ]
     },
     "execution_count": 9,
     "metadata": {},
     "output_type": "execute_result"
    }
   ],
   "source": [
    "df_all.isnull().sum()"
   ]
  },
  {
   "cell_type": "code",
   "execution_count": 10,
   "metadata": {},
   "outputs": [
    {
     "data": {
      "text/plain": [
       "array(['No', 'Yes', nan], dtype=object)"
      ]
     },
     "execution_count": 10,
     "metadata": {},
     "output_type": "execute_result"
    }
   ],
   "source": [
    "df_all.bike_share_for_all_trip.unique()"
   ]
  },
  {
   "cell_type": "code",
   "execution_count": 11,
   "metadata": {},
   "outputs": [
    {
     "data": {
      "text/plain": [
       "array([nan, 'app', 'clipper'], dtype=object)"
      ]
     },
     "execution_count": 11,
     "metadata": {},
     "output_type": "execute_result"
    }
   ],
   "source": [
    "df_all.rental_access_method.unique()"
   ]
  },
  {
   "cell_type": "code",
   "execution_count": 12,
   "metadata": {
    "scrolled": true
   },
   "outputs": [
    {
     "data": {
      "text/plain": [
       "0"
      ]
     },
     "execution_count": 12,
     "metadata": {},
     "output_type": "execute_result"
    }
   ],
   "source": [
    "df_all.duplicated().sum()"
   ]
  },
  {
   "cell_type": "markdown",
   "metadata": {},
   "source": [
    "### Data quality issues"
   ]
  },
  {
   "cell_type": "markdown",
   "metadata": {},
   "source": [
    "- drop rental_access_method since there is to many missing values\n",
    "- create new columns with day and month\n",
    "- convert start_time and end_time to datetime\n",
    "- missing values for start and end station id and station name\n",
    "- calculate seconds to minutes\n",
    "- drop records that are missing start and end station name\n",
    "- divide das of week to workdays(Monday to Friday) and weekend(Saturday, Sunday)"
   ]
  },
  {
   "cell_type": "code",
   "execution_count": null,
   "metadata": {},
   "outputs": [],
   "source": []
  },
  {
   "cell_type": "markdown",
   "metadata": {},
   "source": [
    "### Clean data"
   ]
  },
  {
   "cell_type": "code",
   "execution_count": 13,
   "metadata": {},
   "outputs": [],
   "source": [
    "# making copy dataset before cleaning process\n",
    "df_all_clean= df_all.copy()"
   ]
  },
  {
   "cell_type": "code",
   "execution_count": 14,
   "metadata": {},
   "outputs": [
    {
     "data": {
      "text/html": [
       "<div>\n",
       "<style scoped>\n",
       "    .dataframe tbody tr th:only-of-type {\n",
       "        vertical-align: middle;\n",
       "    }\n",
       "\n",
       "    .dataframe tbody tr th {\n",
       "        vertical-align: top;\n",
       "    }\n",
       "\n",
       "    .dataframe thead th {\n",
       "        text-align: right;\n",
       "    }\n",
       "</style>\n",
       "<table border=\"1\" class=\"dataframe\">\n",
       "  <thead>\n",
       "    <tr style=\"text-align: right;\">\n",
       "      <th></th>\n",
       "      <th>duration_sec</th>\n",
       "      <th>start_time</th>\n",
       "      <th>end_time</th>\n",
       "      <th>start_station_id</th>\n",
       "      <th>start_station_name</th>\n",
       "      <th>start_station_latitude</th>\n",
       "      <th>start_station_longitude</th>\n",
       "      <th>end_station_id</th>\n",
       "      <th>end_station_name</th>\n",
       "      <th>end_station_latitude</th>\n",
       "      <th>end_station_longitude</th>\n",
       "      <th>bike_id</th>\n",
       "      <th>user_type</th>\n",
       "      <th>bike_share_for_all_trip</th>\n",
       "      <th>rental_access_method</th>\n",
       "    </tr>\n",
       "  </thead>\n",
       "  <tbody>\n",
       "    <tr>\n",
       "      <th>0</th>\n",
       "      <td>80825</td>\n",
       "      <td>2019-01-31 17:57:44.6130</td>\n",
       "      <td>2019-02-01 16:24:49.8640</td>\n",
       "      <td>229.0</td>\n",
       "      <td>Foothill Blvd at 42nd Ave</td>\n",
       "      <td>37.775745</td>\n",
       "      <td>-122.213037</td>\n",
       "      <td>196.0</td>\n",
       "      <td>Grand Ave at Perkins St</td>\n",
       "      <td>37.808894</td>\n",
       "      <td>-122.256460</td>\n",
       "      <td>4861</td>\n",
       "      <td>Subscriber</td>\n",
       "      <td>No</td>\n",
       "      <td>NaN</td>\n",
       "    </tr>\n",
       "    <tr>\n",
       "      <th>1</th>\n",
       "      <td>65900</td>\n",
       "      <td>2019-01-31 20:58:33.8860</td>\n",
       "      <td>2019-02-01 15:16:54.1730</td>\n",
       "      <td>4.0</td>\n",
       "      <td>Cyril Magnin St at Ellis St</td>\n",
       "      <td>37.785881</td>\n",
       "      <td>-122.408915</td>\n",
       "      <td>134.0</td>\n",
       "      <td>Valencia St at 24th St</td>\n",
       "      <td>37.752428</td>\n",
       "      <td>-122.420628</td>\n",
       "      <td>5506</td>\n",
       "      <td>Subscriber</td>\n",
       "      <td>No</td>\n",
       "      <td>NaN</td>\n",
       "    </tr>\n",
       "    <tr>\n",
       "      <th>2</th>\n",
       "      <td>62633</td>\n",
       "      <td>2019-01-31 18:06:52.9240</td>\n",
       "      <td>2019-02-01 11:30:46.5300</td>\n",
       "      <td>245.0</td>\n",
       "      <td>Downtown Berkeley BART</td>\n",
       "      <td>37.870139</td>\n",
       "      <td>-122.268422</td>\n",
       "      <td>157.0</td>\n",
       "      <td>65th St at Hollis St</td>\n",
       "      <td>37.846784</td>\n",
       "      <td>-122.291376</td>\n",
       "      <td>2717</td>\n",
       "      <td>Customer</td>\n",
       "      <td>No</td>\n",
       "      <td>NaN</td>\n",
       "    </tr>\n",
       "    <tr>\n",
       "      <th>3</th>\n",
       "      <td>44680</td>\n",
       "      <td>2019-01-31 19:46:09.7190</td>\n",
       "      <td>2019-02-01 08:10:50.3180</td>\n",
       "      <td>85.0</td>\n",
       "      <td>Church St at Duboce Ave</td>\n",
       "      <td>37.770083</td>\n",
       "      <td>-122.429156</td>\n",
       "      <td>53.0</td>\n",
       "      <td>Grove St at Divisadero</td>\n",
       "      <td>37.775946</td>\n",
       "      <td>-122.437777</td>\n",
       "      <td>4557</td>\n",
       "      <td>Customer</td>\n",
       "      <td>No</td>\n",
       "      <td>NaN</td>\n",
       "    </tr>\n",
       "    <tr>\n",
       "      <th>4</th>\n",
       "      <td>60709</td>\n",
       "      <td>2019-01-31 14:19:01.5410</td>\n",
       "      <td>2019-02-01 07:10:51.0650</td>\n",
       "      <td>16.0</td>\n",
       "      <td>Steuart St at Market St</td>\n",
       "      <td>37.794130</td>\n",
       "      <td>-122.394430</td>\n",
       "      <td>28.0</td>\n",
       "      <td>The Embarcadero at Bryant St</td>\n",
       "      <td>37.787168</td>\n",
       "      <td>-122.388098</td>\n",
       "      <td>2100</td>\n",
       "      <td>Customer</td>\n",
       "      <td>No</td>\n",
       "      <td>NaN</td>\n",
       "    </tr>\n",
       "  </tbody>\n",
       "</table>\n",
       "</div>"
      ],
      "text/plain": [
       "   duration_sec                start_time                  end_time  \\\n",
       "0         80825  2019-01-31 17:57:44.6130  2019-02-01 16:24:49.8640   \n",
       "1         65900  2019-01-31 20:58:33.8860  2019-02-01 15:16:54.1730   \n",
       "2         62633  2019-01-31 18:06:52.9240  2019-02-01 11:30:46.5300   \n",
       "3         44680  2019-01-31 19:46:09.7190  2019-02-01 08:10:50.3180   \n",
       "4         60709  2019-01-31 14:19:01.5410  2019-02-01 07:10:51.0650   \n",
       "\n",
       "   start_station_id           start_station_name  start_station_latitude  \\\n",
       "0             229.0    Foothill Blvd at 42nd Ave               37.775745   \n",
       "1               4.0  Cyril Magnin St at Ellis St               37.785881   \n",
       "2             245.0       Downtown Berkeley BART               37.870139   \n",
       "3              85.0      Church St at Duboce Ave               37.770083   \n",
       "4              16.0      Steuart St at Market St               37.794130   \n",
       "\n",
       "   start_station_longitude  end_station_id              end_station_name  \\\n",
       "0              -122.213037           196.0       Grand Ave at Perkins St   \n",
       "1              -122.408915           134.0        Valencia St at 24th St   \n",
       "2              -122.268422           157.0          65th St at Hollis St   \n",
       "3              -122.429156            53.0        Grove St at Divisadero   \n",
       "4              -122.394430            28.0  The Embarcadero at Bryant St   \n",
       "\n",
       "   end_station_latitude  end_station_longitude  bike_id   user_type  \\\n",
       "0             37.808894            -122.256460     4861  Subscriber   \n",
       "1             37.752428            -122.420628     5506  Subscriber   \n",
       "2             37.846784            -122.291376     2717    Customer   \n",
       "3             37.775946            -122.437777     4557    Customer   \n",
       "4             37.787168            -122.388098     2100    Customer   \n",
       "\n",
       "  bike_share_for_all_trip rental_access_method  \n",
       "0                      No                  NaN  \n",
       "1                      No                  NaN  \n",
       "2                      No                  NaN  \n",
       "3                      No                  NaN  \n",
       "4                      No                  NaN  "
      ]
     },
     "execution_count": 14,
     "metadata": {},
     "output_type": "execute_result"
    }
   ],
   "source": [
    "df_all_clean.head()"
   ]
  },
  {
   "cell_type": "code",
   "execution_count": null,
   "metadata": {},
   "outputs": [],
   "source": []
  },
  {
   "cell_type": "markdown",
   "metadata": {},
   "source": [
    "#### Define:<b>\n",
    "Drop drop rental_access_method column"
   ]
  },
  {
   "cell_type": "markdown",
   "metadata": {},
   "source": [
    "#### Code"
   ]
  },
  {
   "cell_type": "code",
   "execution_count": 15,
   "metadata": {},
   "outputs": [],
   "source": [
    "df_all_clean.drop(\"rental_access_method\", axis=1, inplace = True)"
   ]
  },
  {
   "cell_type": "markdown",
   "metadata": {},
   "source": [
    "#### Test"
   ]
  },
  {
   "cell_type": "code",
   "execution_count": 16,
   "metadata": {},
   "outputs": [
    {
     "name": "stdout",
     "output_type": "stream",
     "text": [
      "<class 'pandas.core.frame.DataFrame'>\n",
      "RangeIndex: 2506983 entries, 0 to 2506982\n",
      "Data columns (total 14 columns):\n",
      " #   Column                   Dtype  \n",
      "---  ------                   -----  \n",
      " 0   duration_sec             int64  \n",
      " 1   start_time               object \n",
      " 2   end_time                 object \n",
      " 3   start_station_id         float64\n",
      " 4   start_station_name       object \n",
      " 5   start_station_latitude   float64\n",
      " 6   start_station_longitude  float64\n",
      " 7   end_station_id           float64\n",
      " 8   end_station_name         object \n",
      " 9   end_station_latitude     float64\n",
      " 10  end_station_longitude    float64\n",
      " 11  bike_id                  int64  \n",
      " 12  user_type                object \n",
      " 13  bike_share_for_all_trip  object \n",
      "dtypes: float64(6), int64(2), object(6)\n",
      "memory usage: 267.8+ MB\n"
     ]
    }
   ],
   "source": [
    "df_all_clean.info()"
   ]
  },
  {
   "cell_type": "code",
   "execution_count": null,
   "metadata": {},
   "outputs": [],
   "source": []
  },
  {
   "cell_type": "markdown",
   "metadata": {},
   "source": [
    "#### Define: <b>\n",
    "Change start_time and end_time column datatype to datetime"
   ]
  },
  {
   "cell_type": "markdown",
   "metadata": {},
   "source": [
    "#### Code"
   ]
  },
  {
   "cell_type": "code",
   "execution_count": 17,
   "metadata": {},
   "outputs": [],
   "source": [
    "df_all_clean[\"start_time\"] = pd.to_datetime(df_all_clean[\"start_time\"])\n",
    "df_all_clean[\"end_time\"] = pd.to_datetime(df_all_clean[\"end_time\"])"
   ]
  },
  {
   "cell_type": "markdown",
   "metadata": {},
   "source": [
    "#### Test"
   ]
  },
  {
   "cell_type": "code",
   "execution_count": 18,
   "metadata": {},
   "outputs": [
    {
     "name": "stdout",
     "output_type": "stream",
     "text": [
      "<class 'pandas.core.frame.DataFrame'>\n",
      "RangeIndex: 2506983 entries, 0 to 2506982\n",
      "Data columns (total 14 columns):\n",
      " #   Column                   Dtype         \n",
      "---  ------                   -----         \n",
      " 0   duration_sec             int64         \n",
      " 1   start_time               datetime64[ns]\n",
      " 2   end_time                 datetime64[ns]\n",
      " 3   start_station_id         float64       \n",
      " 4   start_station_name       object        \n",
      " 5   start_station_latitude   float64       \n",
      " 6   start_station_longitude  float64       \n",
      " 7   end_station_id           float64       \n",
      " 8   end_station_name         object        \n",
      " 9   end_station_latitude     float64       \n",
      " 10  end_station_longitude    float64       \n",
      " 11  bike_id                  int64         \n",
      " 12  user_type                object        \n",
      " 13  bike_share_for_all_trip  object        \n",
      "dtypes: datetime64[ns](2), float64(6), int64(2), object(4)\n",
      "memory usage: 267.8+ MB\n"
     ]
    }
   ],
   "source": [
    "df_all_clean.info()"
   ]
  },
  {
   "cell_type": "code",
   "execution_count": null,
   "metadata": {},
   "outputs": [],
   "source": []
  },
  {
   "cell_type": "markdown",
   "metadata": {},
   "source": [
    "#### Define :<b>\n",
    "Create new columns with day and month, we'll take these values from start_time"
   ]
  },
  {
   "cell_type": "markdown",
   "metadata": {},
   "source": [
    "#### Code"
   ]
  },
  {
   "cell_type": "code",
   "execution_count": 19,
   "metadata": {},
   "outputs": [],
   "source": [
    "df_all_clean[\"day\"] = df_all_clean[\"start_time\"].dt.strftime(\"%A\")\n",
    "df_all_clean[\"month\"] = df_all_clean[\"start_time\"].dt.strftime(\"%B\")"
   ]
  },
  {
   "cell_type": "markdown",
   "metadata": {},
   "source": [
    "#### Test"
   ]
  },
  {
   "cell_type": "code",
   "execution_count": 20,
   "metadata": {},
   "outputs": [
    {
     "data": {
      "text/html": [
       "<div>\n",
       "<style scoped>\n",
       "    .dataframe tbody tr th:only-of-type {\n",
       "        vertical-align: middle;\n",
       "    }\n",
       "\n",
       "    .dataframe tbody tr th {\n",
       "        vertical-align: top;\n",
       "    }\n",
       "\n",
       "    .dataframe thead th {\n",
       "        text-align: right;\n",
       "    }\n",
       "</style>\n",
       "<table border=\"1\" class=\"dataframe\">\n",
       "  <thead>\n",
       "    <tr style=\"text-align: right;\">\n",
       "      <th></th>\n",
       "      <th>duration_sec</th>\n",
       "      <th>start_time</th>\n",
       "      <th>end_time</th>\n",
       "      <th>start_station_id</th>\n",
       "      <th>start_station_name</th>\n",
       "      <th>start_station_latitude</th>\n",
       "      <th>start_station_longitude</th>\n",
       "      <th>end_station_id</th>\n",
       "      <th>end_station_name</th>\n",
       "      <th>end_station_latitude</th>\n",
       "      <th>end_station_longitude</th>\n",
       "      <th>bike_id</th>\n",
       "      <th>user_type</th>\n",
       "      <th>bike_share_for_all_trip</th>\n",
       "      <th>day</th>\n",
       "      <th>month</th>\n",
       "    </tr>\n",
       "  </thead>\n",
       "  <tbody>\n",
       "    <tr>\n",
       "      <th>2157260</th>\n",
       "      <td>679</td>\n",
       "      <td>2019-10-02 16:05:35.113</td>\n",
       "      <td>2019-10-02 16:16:54.153</td>\n",
       "      <td>47.0</td>\n",
       "      <td>4th St at Harrison St</td>\n",
       "      <td>37.780955</td>\n",
       "      <td>-122.399749</td>\n",
       "      <td>116.0</td>\n",
       "      <td>Mississippi St at 17th St</td>\n",
       "      <td>37.764802</td>\n",
       "      <td>-122.394771</td>\n",
       "      <td>785</td>\n",
       "      <td>Subscriber</td>\n",
       "      <td>No</td>\n",
       "      <td>Wednesday</td>\n",
       "      <td>October</td>\n",
       "    </tr>\n",
       "    <tr>\n",
       "      <th>728469</th>\n",
       "      <td>280</td>\n",
       "      <td>2019-04-16 06:53:22.653</td>\n",
       "      <td>2019-04-16 06:58:02.711</td>\n",
       "      <td>7.0</td>\n",
       "      <td>Frank H Ogawa Plaza</td>\n",
       "      <td>37.804562</td>\n",
       "      <td>-122.271738</td>\n",
       "      <td>163.0</td>\n",
       "      <td>Lake Merritt BART Station</td>\n",
       "      <td>37.797320</td>\n",
       "      <td>-122.265320</td>\n",
       "      <td>2750</td>\n",
       "      <td>Subscriber</td>\n",
       "      <td>No</td>\n",
       "      <td>Tuesday</td>\n",
       "      <td>April</td>\n",
       "    </tr>\n",
       "    <tr>\n",
       "      <th>1985809</th>\n",
       "      <td>447</td>\n",
       "      <td>2019-10-24 17:23:59.621</td>\n",
       "      <td>2019-10-24 17:31:26.951</td>\n",
       "      <td>66.0</td>\n",
       "      <td>3rd St at Townsend St</td>\n",
       "      <td>37.778742</td>\n",
       "      <td>-122.392741</td>\n",
       "      <td>21.0</td>\n",
       "      <td>Montgomery St BART Station (Market St at 2nd St)</td>\n",
       "      <td>37.789625</td>\n",
       "      <td>-122.400811</td>\n",
       "      <td>9722</td>\n",
       "      <td>Subscriber</td>\n",
       "      <td>Yes</td>\n",
       "      <td>Thursday</td>\n",
       "      <td>October</td>\n",
       "    </tr>\n",
       "    <tr>\n",
       "      <th>952234</th>\n",
       "      <td>790</td>\n",
       "      <td>2019-05-17 15:16:24.641</td>\n",
       "      <td>2019-05-17 15:29:34.752</td>\n",
       "      <td>174.0</td>\n",
       "      <td>Shattuck Ave at 51st St</td>\n",
       "      <td>37.836801</td>\n",
       "      <td>-122.264004</td>\n",
       "      <td>211.0</td>\n",
       "      <td>Broadway at 40th St</td>\n",
       "      <td>37.827757</td>\n",
       "      <td>-122.256716</td>\n",
       "      <td>2476</td>\n",
       "      <td>Subscriber</td>\n",
       "      <td>No</td>\n",
       "      <td>Friday</td>\n",
       "      <td>May</td>\n",
       "    </tr>\n",
       "    <tr>\n",
       "      <th>2024268</th>\n",
       "      <td>683</td>\n",
       "      <td>2019-10-19 22:58:23.410</td>\n",
       "      <td>2019-10-19 23:09:47.105</td>\n",
       "      <td>218.0</td>\n",
       "      <td>DeFremery Park</td>\n",
       "      <td>37.812331</td>\n",
       "      <td>-122.285171</td>\n",
       "      <td>160.0</td>\n",
       "      <td>West Oakland BART Station</td>\n",
       "      <td>37.805318</td>\n",
       "      <td>-122.294837</td>\n",
       "      <td>9509</td>\n",
       "      <td>Customer</td>\n",
       "      <td>No</td>\n",
       "      <td>Saturday</td>\n",
       "      <td>October</td>\n",
       "    </tr>\n",
       "  </tbody>\n",
       "</table>\n",
       "</div>"
      ],
      "text/plain": [
       "         duration_sec              start_time                end_time  \\\n",
       "2157260           679 2019-10-02 16:05:35.113 2019-10-02 16:16:54.153   \n",
       "728469            280 2019-04-16 06:53:22.653 2019-04-16 06:58:02.711   \n",
       "1985809           447 2019-10-24 17:23:59.621 2019-10-24 17:31:26.951   \n",
       "952234            790 2019-05-17 15:16:24.641 2019-05-17 15:29:34.752   \n",
       "2024268           683 2019-10-19 22:58:23.410 2019-10-19 23:09:47.105   \n",
       "\n",
       "         start_station_id       start_station_name  start_station_latitude  \\\n",
       "2157260              47.0    4th St at Harrison St               37.780955   \n",
       "728469                7.0      Frank H Ogawa Plaza               37.804562   \n",
       "1985809              66.0    3rd St at Townsend St               37.778742   \n",
       "952234              174.0  Shattuck Ave at 51st St               37.836801   \n",
       "2024268             218.0           DeFremery Park               37.812331   \n",
       "\n",
       "         start_station_longitude  end_station_id  \\\n",
       "2157260              -122.399749           116.0   \n",
       "728469               -122.271738           163.0   \n",
       "1985809              -122.392741            21.0   \n",
       "952234               -122.264004           211.0   \n",
       "2024268              -122.285171           160.0   \n",
       "\n",
       "                                         end_station_name  \\\n",
       "2157260                         Mississippi St at 17th St   \n",
       "728469                          Lake Merritt BART Station   \n",
       "1985809  Montgomery St BART Station (Market St at 2nd St)   \n",
       "952234                                Broadway at 40th St   \n",
       "2024268                         West Oakland BART Station   \n",
       "\n",
       "         end_station_latitude  end_station_longitude  bike_id   user_type  \\\n",
       "2157260             37.764802            -122.394771      785  Subscriber   \n",
       "728469              37.797320            -122.265320     2750  Subscriber   \n",
       "1985809             37.789625            -122.400811     9722  Subscriber   \n",
       "952234              37.827757            -122.256716     2476  Subscriber   \n",
       "2024268             37.805318            -122.294837     9509    Customer   \n",
       "\n",
       "        bike_share_for_all_trip        day    month  \n",
       "2157260                      No  Wednesday  October  \n",
       "728469                       No    Tuesday    April  \n",
       "1985809                     Yes   Thursday  October  \n",
       "952234                       No     Friday      May  \n",
       "2024268                      No   Saturday  October  "
      ]
     },
     "execution_count": 20,
     "metadata": {},
     "output_type": "execute_result"
    }
   ],
   "source": [
    "df_all_clean.sample(5)"
   ]
  },
  {
   "cell_type": "code",
   "execution_count": null,
   "metadata": {},
   "outputs": [],
   "source": []
  },
  {
   "cell_type": "markdown",
   "metadata": {},
   "source": [
    "#### Define:<b>\n",
    "Calculate seconds to minutes and delete duration_sec column"
   ]
  },
  {
   "cell_type": "markdown",
   "metadata": {},
   "source": [
    "#### Code"
   ]
  },
  {
   "cell_type": "code",
   "execution_count": 21,
   "metadata": {},
   "outputs": [],
   "source": [
    "df_all_clean[\"duration_min\"] = df_all_clean.duration_sec / 60\n",
    "df_all_clean[\"duration_min\"] = df_all_clean[\"duration_min\"].astype(int)"
   ]
  },
  {
   "cell_type": "code",
   "execution_count": 22,
   "metadata": {},
   "outputs": [],
   "source": [
    "df_all_clean.drop(\"duration_sec\", axis=1, inplace=True)"
   ]
  },
  {
   "cell_type": "markdown",
   "metadata": {},
   "source": [
    "#### Test"
   ]
  },
  {
   "cell_type": "code",
   "execution_count": 23,
   "metadata": {},
   "outputs": [
    {
     "data": {
      "text/html": [
       "<div>\n",
       "<style scoped>\n",
       "    .dataframe tbody tr th:only-of-type {\n",
       "        vertical-align: middle;\n",
       "    }\n",
       "\n",
       "    .dataframe tbody tr th {\n",
       "        vertical-align: top;\n",
       "    }\n",
       "\n",
       "    .dataframe thead th {\n",
       "        text-align: right;\n",
       "    }\n",
       "</style>\n",
       "<table border=\"1\" class=\"dataframe\">\n",
       "  <thead>\n",
       "    <tr style=\"text-align: right;\">\n",
       "      <th></th>\n",
       "      <th>start_time</th>\n",
       "      <th>end_time</th>\n",
       "      <th>start_station_id</th>\n",
       "      <th>start_station_name</th>\n",
       "      <th>start_station_latitude</th>\n",
       "      <th>start_station_longitude</th>\n",
       "      <th>end_station_id</th>\n",
       "      <th>end_station_name</th>\n",
       "      <th>end_station_latitude</th>\n",
       "      <th>end_station_longitude</th>\n",
       "      <th>bike_id</th>\n",
       "      <th>user_type</th>\n",
       "      <th>bike_share_for_all_trip</th>\n",
       "      <th>day</th>\n",
       "      <th>month</th>\n",
       "      <th>duration_min</th>\n",
       "    </tr>\n",
       "  </thead>\n",
       "  <tbody>\n",
       "    <tr>\n",
       "      <th>0</th>\n",
       "      <td>2019-01-31 17:57:44.613</td>\n",
       "      <td>2019-02-01 16:24:49.864</td>\n",
       "      <td>229.0</td>\n",
       "      <td>Foothill Blvd at 42nd Ave</td>\n",
       "      <td>37.775745</td>\n",
       "      <td>-122.213037</td>\n",
       "      <td>196.0</td>\n",
       "      <td>Grand Ave at Perkins St</td>\n",
       "      <td>37.808894</td>\n",
       "      <td>-122.256460</td>\n",
       "      <td>4861</td>\n",
       "      <td>Subscriber</td>\n",
       "      <td>No</td>\n",
       "      <td>Thursday</td>\n",
       "      <td>January</td>\n",
       "      <td>1347</td>\n",
       "    </tr>\n",
       "    <tr>\n",
       "      <th>1</th>\n",
       "      <td>2019-01-31 20:58:33.886</td>\n",
       "      <td>2019-02-01 15:16:54.173</td>\n",
       "      <td>4.0</td>\n",
       "      <td>Cyril Magnin St at Ellis St</td>\n",
       "      <td>37.785881</td>\n",
       "      <td>-122.408915</td>\n",
       "      <td>134.0</td>\n",
       "      <td>Valencia St at 24th St</td>\n",
       "      <td>37.752428</td>\n",
       "      <td>-122.420628</td>\n",
       "      <td>5506</td>\n",
       "      <td>Subscriber</td>\n",
       "      <td>No</td>\n",
       "      <td>Thursday</td>\n",
       "      <td>January</td>\n",
       "      <td>1098</td>\n",
       "    </tr>\n",
       "    <tr>\n",
       "      <th>2</th>\n",
       "      <td>2019-01-31 18:06:52.924</td>\n",
       "      <td>2019-02-01 11:30:46.530</td>\n",
       "      <td>245.0</td>\n",
       "      <td>Downtown Berkeley BART</td>\n",
       "      <td>37.870139</td>\n",
       "      <td>-122.268422</td>\n",
       "      <td>157.0</td>\n",
       "      <td>65th St at Hollis St</td>\n",
       "      <td>37.846784</td>\n",
       "      <td>-122.291376</td>\n",
       "      <td>2717</td>\n",
       "      <td>Customer</td>\n",
       "      <td>No</td>\n",
       "      <td>Thursday</td>\n",
       "      <td>January</td>\n",
       "      <td>1043</td>\n",
       "    </tr>\n",
       "    <tr>\n",
       "      <th>3</th>\n",
       "      <td>2019-01-31 19:46:09.719</td>\n",
       "      <td>2019-02-01 08:10:50.318</td>\n",
       "      <td>85.0</td>\n",
       "      <td>Church St at Duboce Ave</td>\n",
       "      <td>37.770083</td>\n",
       "      <td>-122.429156</td>\n",
       "      <td>53.0</td>\n",
       "      <td>Grove St at Divisadero</td>\n",
       "      <td>37.775946</td>\n",
       "      <td>-122.437777</td>\n",
       "      <td>4557</td>\n",
       "      <td>Customer</td>\n",
       "      <td>No</td>\n",
       "      <td>Thursday</td>\n",
       "      <td>January</td>\n",
       "      <td>744</td>\n",
       "    </tr>\n",
       "    <tr>\n",
       "      <th>4</th>\n",
       "      <td>2019-01-31 14:19:01.541</td>\n",
       "      <td>2019-02-01 07:10:51.065</td>\n",
       "      <td>16.0</td>\n",
       "      <td>Steuart St at Market St</td>\n",
       "      <td>37.794130</td>\n",
       "      <td>-122.394430</td>\n",
       "      <td>28.0</td>\n",
       "      <td>The Embarcadero at Bryant St</td>\n",
       "      <td>37.787168</td>\n",
       "      <td>-122.388098</td>\n",
       "      <td>2100</td>\n",
       "      <td>Customer</td>\n",
       "      <td>No</td>\n",
       "      <td>Thursday</td>\n",
       "      <td>January</td>\n",
       "      <td>1011</td>\n",
       "    </tr>\n",
       "  </tbody>\n",
       "</table>\n",
       "</div>"
      ],
      "text/plain": [
       "               start_time                end_time  start_station_id  \\\n",
       "0 2019-01-31 17:57:44.613 2019-02-01 16:24:49.864             229.0   \n",
       "1 2019-01-31 20:58:33.886 2019-02-01 15:16:54.173               4.0   \n",
       "2 2019-01-31 18:06:52.924 2019-02-01 11:30:46.530             245.0   \n",
       "3 2019-01-31 19:46:09.719 2019-02-01 08:10:50.318              85.0   \n",
       "4 2019-01-31 14:19:01.541 2019-02-01 07:10:51.065              16.0   \n",
       "\n",
       "            start_station_name  start_station_latitude  \\\n",
       "0    Foothill Blvd at 42nd Ave               37.775745   \n",
       "1  Cyril Magnin St at Ellis St               37.785881   \n",
       "2       Downtown Berkeley BART               37.870139   \n",
       "3      Church St at Duboce Ave               37.770083   \n",
       "4      Steuart St at Market St               37.794130   \n",
       "\n",
       "   start_station_longitude  end_station_id              end_station_name  \\\n",
       "0              -122.213037           196.0       Grand Ave at Perkins St   \n",
       "1              -122.408915           134.0        Valencia St at 24th St   \n",
       "2              -122.268422           157.0          65th St at Hollis St   \n",
       "3              -122.429156            53.0        Grove St at Divisadero   \n",
       "4              -122.394430            28.0  The Embarcadero at Bryant St   \n",
       "\n",
       "   end_station_latitude  end_station_longitude  bike_id   user_type  \\\n",
       "0             37.808894            -122.256460     4861  Subscriber   \n",
       "1             37.752428            -122.420628     5506  Subscriber   \n",
       "2             37.846784            -122.291376     2717    Customer   \n",
       "3             37.775946            -122.437777     4557    Customer   \n",
       "4             37.787168            -122.388098     2100    Customer   \n",
       "\n",
       "  bike_share_for_all_trip       day    month  duration_min  \n",
       "0                      No  Thursday  January          1347  \n",
       "1                      No  Thursday  January          1098  \n",
       "2                      No  Thursday  January          1043  \n",
       "3                      No  Thursday  January           744  \n",
       "4                      No  Thursday  January          1011  "
      ]
     },
     "execution_count": 23,
     "metadata": {},
     "output_type": "execute_result"
    }
   ],
   "source": [
    "df_all_clean.head()"
   ]
  },
  {
   "cell_type": "code",
   "execution_count": null,
   "metadata": {},
   "outputs": [],
   "source": []
  },
  {
   "cell_type": "markdown",
   "metadata": {},
   "source": [
    "#### Define:<b>\n",
    "Drop all record that have missing station information"
   ]
  },
  {
   "cell_type": "markdown",
   "metadata": {},
   "source": [
    "#### Code"
   ]
  },
  {
   "cell_type": "code",
   "execution_count": 24,
   "metadata": {},
   "outputs": [
    {
     "data": {
      "text/plain": [
       "start_time                      0\n",
       "end_time                        0\n",
       "start_station_id            80734\n",
       "start_station_name          80133\n",
       "start_station_latitude          0\n",
       "start_station_longitude         0\n",
       "end_station_id              82902\n",
       "end_station_name            82350\n",
       "end_station_latitude            0\n",
       "end_station_longitude           0\n",
       "bike_id                         0\n",
       "user_type                       0\n",
       "bike_share_for_all_trip    243259\n",
       "day                             0\n",
       "month                           0\n",
       "duration_min                    0\n",
       "dtype: int64"
      ]
     },
     "execution_count": 24,
     "metadata": {},
     "output_type": "execute_result"
    }
   ],
   "source": [
    "df_all_clean.isnull().sum()"
   ]
  },
  {
   "cell_type": "code",
   "execution_count": 25,
   "metadata": {},
   "outputs": [],
   "source": [
    "df_all_clean=df_all_clean[df_all_clean.start_station_id.notnull()]\n",
    "df_all_clean=df_all_clean[df_all_clean.end_station_id.notnull()]"
   ]
  },
  {
   "cell_type": "markdown",
   "metadata": {},
   "source": [
    "#### Test"
   ]
  },
  {
   "cell_type": "code",
   "execution_count": 26,
   "metadata": {},
   "outputs": [
    {
     "data": {
      "text/plain": [
       "start_time                      0\n",
       "end_time                        0\n",
       "start_station_id                0\n",
       "start_station_name              0\n",
       "start_station_latitude          0\n",
       "start_station_longitude         0\n",
       "end_station_id                  0\n",
       "end_station_name                0\n",
       "end_station_latitude            0\n",
       "end_station_longitude           0\n",
       "bike_id                         0\n",
       "user_type                       0\n",
       "bike_share_for_all_trip    144280\n",
       "day                             0\n",
       "month                           0\n",
       "duration_min                    0\n",
       "dtype: int64"
      ]
     },
     "execution_count": 26,
     "metadata": {},
     "output_type": "execute_result"
    }
   ],
   "source": [
    "df_all_clean.isnull().sum()"
   ]
  },
  {
   "cell_type": "code",
   "execution_count": 27,
   "metadata": {},
   "outputs": [
    {
     "name": "stdout",
     "output_type": "stream",
     "text": [
      "<class 'pandas.core.frame.DataFrame'>\n",
      "Int64Index: 2407259 entries, 0 to 2506660\n",
      "Data columns (total 16 columns):\n",
      " #   Column                   Dtype         \n",
      "---  ------                   -----         \n",
      " 0   start_time               datetime64[ns]\n",
      " 1   end_time                 datetime64[ns]\n",
      " 2   start_station_id         float64       \n",
      " 3   start_station_name       object        \n",
      " 4   start_station_latitude   float64       \n",
      " 5   start_station_longitude  float64       \n",
      " 6   end_station_id           float64       \n",
      " 7   end_station_name         object        \n",
      " 8   end_station_latitude     float64       \n",
      " 9   end_station_longitude    float64       \n",
      " 10  bike_id                  int64         \n",
      " 11  user_type                object        \n",
      " 12  bike_share_for_all_trip  object        \n",
      " 13  day                      object        \n",
      " 14  month                    object        \n",
      " 15  duration_min             int32         \n",
      "dtypes: datetime64[ns](2), float64(6), int32(1), int64(1), object(6)\n",
      "memory usage: 303.0+ MB\n"
     ]
    }
   ],
   "source": [
    "df_all_clean.info()"
   ]
  },
  {
   "cell_type": "markdown",
   "metadata": {},
   "source": [
    "#### Define<b>\n",
    "Create new column week with two categories, workweek and weekend"
   ]
  },
  {
   "cell_type": "markdown",
   "metadata": {},
   "source": [
    "#### Code"
   ]
  },
  {
   "cell_type": "code",
   "execution_count": 28,
   "metadata": {},
   "outputs": [],
   "source": [
    "df_all_clean[\"week\"]=df_all_clean[\"day\"]"
   ]
  },
  {
   "cell_type": "code",
   "execution_count": 29,
   "metadata": {},
   "outputs": [],
   "source": [
    "df_all_clean[\"week\"].replace({\"Monday\":\"workweek\",\"Tuesday\":\"workweek\",\"Wednesday\":\"workweek\",\"Thursday\":\"workweek\",\n",
    "                   \"Friday\":\"workweek\",\"Saturday\":\"weekend\",\"Sunday\":\"weekend\"}, inplace=True)"
   ]
  },
  {
   "cell_type": "markdown",
   "metadata": {},
   "source": [
    "#### Test"
   ]
  },
  {
   "cell_type": "code",
   "execution_count": 30,
   "metadata": {},
   "outputs": [
    {
     "data": {
      "text/html": [
       "<div>\n",
       "<style scoped>\n",
       "    .dataframe tbody tr th:only-of-type {\n",
       "        vertical-align: middle;\n",
       "    }\n",
       "\n",
       "    .dataframe tbody tr th {\n",
       "        vertical-align: top;\n",
       "    }\n",
       "\n",
       "    .dataframe thead th {\n",
       "        text-align: right;\n",
       "    }\n",
       "</style>\n",
       "<table border=\"1\" class=\"dataframe\">\n",
       "  <thead>\n",
       "    <tr style=\"text-align: right;\">\n",
       "      <th></th>\n",
       "      <th>start_time</th>\n",
       "      <th>end_time</th>\n",
       "      <th>start_station_id</th>\n",
       "      <th>start_station_name</th>\n",
       "      <th>start_station_latitude</th>\n",
       "      <th>start_station_longitude</th>\n",
       "      <th>end_station_id</th>\n",
       "      <th>end_station_name</th>\n",
       "      <th>end_station_latitude</th>\n",
       "      <th>end_station_longitude</th>\n",
       "      <th>bike_id</th>\n",
       "      <th>user_type</th>\n",
       "      <th>bike_share_for_all_trip</th>\n",
       "      <th>day</th>\n",
       "      <th>month</th>\n",
       "      <th>duration_min</th>\n",
       "      <th>week</th>\n",
       "    </tr>\n",
       "  </thead>\n",
       "  <tbody>\n",
       "    <tr>\n",
       "      <th>129037</th>\n",
       "      <td>2019-01-13 07:16:38.585</td>\n",
       "      <td>2019-01-13 07:18:28.834</td>\n",
       "      <td>277.0</td>\n",
       "      <td>Morrison Ave at Julian St</td>\n",
       "      <td>37.333658</td>\n",
       "      <td>-121.908586</td>\n",
       "      <td>276.0</td>\n",
       "      <td>Julian St at The Alameda</td>\n",
       "      <td>37.332233</td>\n",
       "      <td>-121.912516</td>\n",
       "      <td>3777</td>\n",
       "      <td>Subscriber</td>\n",
       "      <td>Yes</td>\n",
       "      <td>Sunday</td>\n",
       "      <td>January</td>\n",
       "      <td>1</td>\n",
       "      <td>weekend</td>\n",
       "    </tr>\n",
       "    <tr>\n",
       "      <th>2377674</th>\n",
       "      <td>2019-12-20 15:05:07.076</td>\n",
       "      <td>2019-12-20 15:25:51.422</td>\n",
       "      <td>439.0</td>\n",
       "      <td>Post St at Divisadero St</td>\n",
       "      <td>37.784372</td>\n",
       "      <td>-122.439478</td>\n",
       "      <td>63.0</td>\n",
       "      <td>Bryant St at 6th St</td>\n",
       "      <td>37.775910</td>\n",
       "      <td>-122.402575</td>\n",
       "      <td>13046</td>\n",
       "      <td>Subscriber</td>\n",
       "      <td>NaN</td>\n",
       "      <td>Friday</td>\n",
       "      <td>December</td>\n",
       "      <td>20</td>\n",
       "      <td>workweek</td>\n",
       "    </tr>\n",
       "    <tr>\n",
       "      <th>1776833</th>\n",
       "      <td>2019-09-22 17:18:25.616</td>\n",
       "      <td>2019-09-22 17:21:50.666</td>\n",
       "      <td>252.0</td>\n",
       "      <td>Channing Way at Shattuck Ave</td>\n",
       "      <td>37.865847</td>\n",
       "      <td>-122.267443</td>\n",
       "      <td>274.0</td>\n",
       "      <td>Oregon St at Adeline St</td>\n",
       "      <td>37.857567</td>\n",
       "      <td>-122.267558</td>\n",
       "      <td>2072</td>\n",
       "      <td>Subscriber</td>\n",
       "      <td>No</td>\n",
       "      <td>Sunday</td>\n",
       "      <td>September</td>\n",
       "      <td>3</td>\n",
       "      <td>weekend</td>\n",
       "    </tr>\n",
       "    <tr>\n",
       "      <th>608131</th>\n",
       "      <td>2019-03-04 18:57:38.463</td>\n",
       "      <td>2019-03-04 19:01:01.731</td>\n",
       "      <td>377.0</td>\n",
       "      <td>Fell St at Stanyan St</td>\n",
       "      <td>37.771917</td>\n",
       "      <td>-122.453704</td>\n",
       "      <td>377.0</td>\n",
       "      <td>Fell St at Stanyan St</td>\n",
       "      <td>37.771917</td>\n",
       "      <td>-122.453704</td>\n",
       "      <td>5060</td>\n",
       "      <td>Subscriber</td>\n",
       "      <td>No</td>\n",
       "      <td>Monday</td>\n",
       "      <td>March</td>\n",
       "      <td>3</td>\n",
       "      <td>workweek</td>\n",
       "    </tr>\n",
       "    <tr>\n",
       "      <th>1946906</th>\n",
       "      <td>2019-10-30 08:32:17.960</td>\n",
       "      <td>2019-10-30 08:35:52.154</td>\n",
       "      <td>90.0</td>\n",
       "      <td>Townsend St at 7th St</td>\n",
       "      <td>37.771058</td>\n",
       "      <td>-122.402717</td>\n",
       "      <td>30.0</td>\n",
       "      <td>San Francisco Caltrain (Townsend St at 4th St)</td>\n",
       "      <td>37.776598</td>\n",
       "      <td>-122.395282</td>\n",
       "      <td>11181</td>\n",
       "      <td>Subscriber</td>\n",
       "      <td>No</td>\n",
       "      <td>Wednesday</td>\n",
       "      <td>October</td>\n",
       "      <td>3</td>\n",
       "      <td>workweek</td>\n",
       "    </tr>\n",
       "    <tr>\n",
       "      <th>1407529</th>\n",
       "      <td>2019-07-02 07:56:36.212</td>\n",
       "      <td>2019-07-02 08:01:54.778</td>\n",
       "      <td>356.0</td>\n",
       "      <td>Valencia St at Clinton Park</td>\n",
       "      <td>37.769188</td>\n",
       "      <td>-122.422285</td>\n",
       "      <td>58.0</td>\n",
       "      <td>Market St at 10th St</td>\n",
       "      <td>37.776619</td>\n",
       "      <td>-122.417385</td>\n",
       "      <td>3222</td>\n",
       "      <td>Subscriber</td>\n",
       "      <td>No</td>\n",
       "      <td>Tuesday</td>\n",
       "      <td>July</td>\n",
       "      <td>5</td>\n",
       "      <td>workweek</td>\n",
       "    </tr>\n",
       "    <tr>\n",
       "      <th>1062176</th>\n",
       "      <td>2019-06-28 19:18:28.207</td>\n",
       "      <td>2019-06-28 19:24:20.858</td>\n",
       "      <td>243.0</td>\n",
       "      <td>Bancroft Way at College Ave</td>\n",
       "      <td>37.869360</td>\n",
       "      <td>-122.254337</td>\n",
       "      <td>249.0</td>\n",
       "      <td>Russell St at College Ave</td>\n",
       "      <td>37.858473</td>\n",
       "      <td>-122.253253</td>\n",
       "      <td>1209</td>\n",
       "      <td>Customer</td>\n",
       "      <td>No</td>\n",
       "      <td>Friday</td>\n",
       "      <td>June</td>\n",
       "      <td>5</td>\n",
       "      <td>workweek</td>\n",
       "    </tr>\n",
       "    <tr>\n",
       "      <th>1304451</th>\n",
       "      <td>2019-07-19 21:10:34.420</td>\n",
       "      <td>2019-07-19 21:24:24.257</td>\n",
       "      <td>323.0</td>\n",
       "      <td>Broadway at Kearny</td>\n",
       "      <td>37.798014</td>\n",
       "      <td>-122.405950</td>\n",
       "      <td>22.0</td>\n",
       "      <td>Howard St at Beale St</td>\n",
       "      <td>37.789756</td>\n",
       "      <td>-122.394643</td>\n",
       "      <td>2413</td>\n",
       "      <td>Subscriber</td>\n",
       "      <td>No</td>\n",
       "      <td>Friday</td>\n",
       "      <td>July</td>\n",
       "      <td>13</td>\n",
       "      <td>workweek</td>\n",
       "    </tr>\n",
       "  </tbody>\n",
       "</table>\n",
       "</div>"
      ],
      "text/plain": [
       "                     start_time                end_time  start_station_id  \\\n",
       "129037  2019-01-13 07:16:38.585 2019-01-13 07:18:28.834             277.0   \n",
       "2377674 2019-12-20 15:05:07.076 2019-12-20 15:25:51.422             439.0   \n",
       "1776833 2019-09-22 17:18:25.616 2019-09-22 17:21:50.666             252.0   \n",
       "608131  2019-03-04 18:57:38.463 2019-03-04 19:01:01.731             377.0   \n",
       "1946906 2019-10-30 08:32:17.960 2019-10-30 08:35:52.154              90.0   \n",
       "1407529 2019-07-02 07:56:36.212 2019-07-02 08:01:54.778             356.0   \n",
       "1062176 2019-06-28 19:18:28.207 2019-06-28 19:24:20.858             243.0   \n",
       "1304451 2019-07-19 21:10:34.420 2019-07-19 21:24:24.257             323.0   \n",
       "\n",
       "                   start_station_name  start_station_latitude  \\\n",
       "129037      Morrison Ave at Julian St               37.333658   \n",
       "2377674      Post St at Divisadero St               37.784372   \n",
       "1776833  Channing Way at Shattuck Ave               37.865847   \n",
       "608131          Fell St at Stanyan St               37.771917   \n",
       "1946906         Townsend St at 7th St               37.771058   \n",
       "1407529   Valencia St at Clinton Park               37.769188   \n",
       "1062176   Bancroft Way at College Ave               37.869360   \n",
       "1304451            Broadway at Kearny               37.798014   \n",
       "\n",
       "         start_station_longitude  end_station_id  \\\n",
       "129037               -121.908586           276.0   \n",
       "2377674              -122.439478            63.0   \n",
       "1776833              -122.267443           274.0   \n",
       "608131               -122.453704           377.0   \n",
       "1946906              -122.402717            30.0   \n",
       "1407529              -122.422285            58.0   \n",
       "1062176              -122.254337           249.0   \n",
       "1304451              -122.405950            22.0   \n",
       "\n",
       "                                       end_station_name  end_station_latitude  \\\n",
       "129037                         Julian St at The Alameda             37.332233   \n",
       "2377674                             Bryant St at 6th St             37.775910   \n",
       "1776833                         Oregon St at Adeline St             37.857567   \n",
       "608131                            Fell St at Stanyan St             37.771917   \n",
       "1946906  San Francisco Caltrain (Townsend St at 4th St)             37.776598   \n",
       "1407529                            Market St at 10th St             37.776619   \n",
       "1062176                       Russell St at College Ave             37.858473   \n",
       "1304451                           Howard St at Beale St             37.789756   \n",
       "\n",
       "         end_station_longitude  bike_id   user_type bike_share_for_all_trip  \\\n",
       "129037             -121.912516     3777  Subscriber                     Yes   \n",
       "2377674            -122.402575    13046  Subscriber                     NaN   \n",
       "1776833            -122.267558     2072  Subscriber                      No   \n",
       "608131             -122.453704     5060  Subscriber                      No   \n",
       "1946906            -122.395282    11181  Subscriber                      No   \n",
       "1407529            -122.417385     3222  Subscriber                      No   \n",
       "1062176            -122.253253     1209    Customer                      No   \n",
       "1304451            -122.394643     2413  Subscriber                      No   \n",
       "\n",
       "               day      month  duration_min      week  \n",
       "129037      Sunday    January             1   weekend  \n",
       "2377674     Friday   December            20  workweek  \n",
       "1776833     Sunday  September             3   weekend  \n",
       "608131      Monday      March             3  workweek  \n",
       "1946906  Wednesday    October             3  workweek  \n",
       "1407529    Tuesday       July             5  workweek  \n",
       "1062176     Friday       June             5  workweek  \n",
       "1304451     Friday       July            13  workweek  "
      ]
     },
     "execution_count": 30,
     "metadata": {},
     "output_type": "execute_result"
    }
   ],
   "source": [
    "df_all_clean.sample(8)"
   ]
  },
  {
   "cell_type": "code",
   "execution_count": 46,
   "metadata": {},
   "outputs": [],
   "source": [
    "# create csv file for slide deck creation\n",
    "df_all_clean.to_csv(\"baywheel_bike_slide.csv\", index = False)"
   ]
  },
  {
   "cell_type": "code",
   "execution_count": null,
   "metadata": {},
   "outputs": [],
   "source": []
  },
  {
   "cell_type": "markdown",
   "metadata": {},
   "source": [
    "## Data Analsing and Visualization"
   ]
  },
  {
   "cell_type": "markdown",
   "metadata": {},
   "source": [
    "### Univariate Exploration\n",
    "\n",
    "> In this section, investigating  distributions of individual variables. "
   ]
  },
  {
   "cell_type": "code",
   "execution_count": 31,
   "metadata": {},
   "outputs": [
    {
     "data": {
      "text/html": [
       "<div>\n",
       "<style scoped>\n",
       "    .dataframe tbody tr th:only-of-type {\n",
       "        vertical-align: middle;\n",
       "    }\n",
       "\n",
       "    .dataframe tbody tr th {\n",
       "        vertical-align: top;\n",
       "    }\n",
       "\n",
       "    .dataframe thead th {\n",
       "        text-align: right;\n",
       "    }\n",
       "</style>\n",
       "<table border=\"1\" class=\"dataframe\">\n",
       "  <thead>\n",
       "    <tr style=\"text-align: right;\">\n",
       "      <th></th>\n",
       "      <th>start_time</th>\n",
       "      <th>end_time</th>\n",
       "      <th>start_station_id</th>\n",
       "      <th>start_station_name</th>\n",
       "      <th>start_station_latitude</th>\n",
       "      <th>start_station_longitude</th>\n",
       "      <th>end_station_id</th>\n",
       "      <th>end_station_name</th>\n",
       "      <th>end_station_latitude</th>\n",
       "      <th>end_station_longitude</th>\n",
       "      <th>bike_id</th>\n",
       "      <th>user_type</th>\n",
       "      <th>bike_share_for_all_trip</th>\n",
       "      <th>day</th>\n",
       "      <th>month</th>\n",
       "      <th>duration_min</th>\n",
       "      <th>week</th>\n",
       "    </tr>\n",
       "  </thead>\n",
       "  <tbody>\n",
       "    <tr>\n",
       "      <th>124513</th>\n",
       "      <td>2019-01-14 07:58:40.748</td>\n",
       "      <td>2019-01-14 08:13:01.814</td>\n",
       "      <td>241.0</td>\n",
       "      <td>Ashby BART Station</td>\n",
       "      <td>37.852477</td>\n",
       "      <td>-122.270213</td>\n",
       "      <td>243.0</td>\n",
       "      <td>Bancroft Way at College Ave</td>\n",
       "      <td>37.869360</td>\n",
       "      <td>-122.254337</td>\n",
       "      <td>4519</td>\n",
       "      <td>Subscriber</td>\n",
       "      <td>No</td>\n",
       "      <td>Monday</td>\n",
       "      <td>January</td>\n",
       "      <td>14</td>\n",
       "      <td>workweek</td>\n",
       "    </tr>\n",
       "    <tr>\n",
       "      <th>589290</th>\n",
       "      <td>2019-03-07 09:34:21.738</td>\n",
       "      <td>2019-03-07 09:50:41.855</td>\n",
       "      <td>67.0</td>\n",
       "      <td>San Francisco Caltrain Station 2  (Townsend St...</td>\n",
       "      <td>37.776639</td>\n",
       "      <td>-122.395526</td>\n",
       "      <td>77.0</td>\n",
       "      <td>11th St at Natoma St</td>\n",
       "      <td>37.773507</td>\n",
       "      <td>-122.416040</td>\n",
       "      <td>3531</td>\n",
       "      <td>Customer</td>\n",
       "      <td>No</td>\n",
       "      <td>Thursday</td>\n",
       "      <td>March</td>\n",
       "      <td>16</td>\n",
       "      <td>workweek</td>\n",
       "    </tr>\n",
       "    <tr>\n",
       "      <th>2477509</th>\n",
       "      <td>2019-12-02 08:23:09.547</td>\n",
       "      <td>2019-12-02 08:37:54.979</td>\n",
       "      <td>139.0</td>\n",
       "      <td>Garfield Square (25th St at Harrison St)</td>\n",
       "      <td>37.751017</td>\n",
       "      <td>-122.411901</td>\n",
       "      <td>80.0</td>\n",
       "      <td>Townsend St at 5th St</td>\n",
       "      <td>37.775235</td>\n",
       "      <td>-122.397437</td>\n",
       "      <td>11729</td>\n",
       "      <td>Customer</td>\n",
       "      <td>NaN</td>\n",
       "      <td>Monday</td>\n",
       "      <td>December</td>\n",
       "      <td>14</td>\n",
       "      <td>workweek</td>\n",
       "    </tr>\n",
       "    <tr>\n",
       "      <th>770705</th>\n",
       "      <td>2019-04-11 06:51:40.801</td>\n",
       "      <td>2019-04-11 07:07:48.908</td>\n",
       "      <td>17.0</td>\n",
       "      <td>Embarcadero BART Station (Beale St at Market St)</td>\n",
       "      <td>37.792251</td>\n",
       "      <td>-122.397086</td>\n",
       "      <td>126.0</td>\n",
       "      <td>Esprit Park</td>\n",
       "      <td>37.761634</td>\n",
       "      <td>-122.390648</td>\n",
       "      <td>6771</td>\n",
       "      <td>Subscriber</td>\n",
       "      <td>No</td>\n",
       "      <td>Thursday</td>\n",
       "      <td>April</td>\n",
       "      <td>16</td>\n",
       "      <td>workweek</td>\n",
       "    </tr>\n",
       "    <tr>\n",
       "      <th>2117187</th>\n",
       "      <td>2019-10-07 21:27:32.317</td>\n",
       "      <td>2019-10-07 21:34:55.373</td>\n",
       "      <td>126.0</td>\n",
       "      <td>Esprit Park</td>\n",
       "      <td>37.761634</td>\n",
       "      <td>-122.390648</td>\n",
       "      <td>81.0</td>\n",
       "      <td>Berry St at 4th St</td>\n",
       "      <td>37.775880</td>\n",
       "      <td>-122.393170</td>\n",
       "      <td>10729</td>\n",
       "      <td>Subscriber</td>\n",
       "      <td>No</td>\n",
       "      <td>Monday</td>\n",
       "      <td>October</td>\n",
       "      <td>7</td>\n",
       "      <td>workweek</td>\n",
       "    </tr>\n",
       "    <tr>\n",
       "      <th>1565203</th>\n",
       "      <td>2019-08-22 18:15:05.623</td>\n",
       "      <td>2019-08-22 18:29:59.249</td>\n",
       "      <td>62.0</td>\n",
       "      <td>Victoria Manalo Draves Park</td>\n",
       "      <td>37.777791</td>\n",
       "      <td>-122.406432</td>\n",
       "      <td>123.0</td>\n",
       "      <td>Folsom St at 19th St</td>\n",
       "      <td>37.760594</td>\n",
       "      <td>-122.414817</td>\n",
       "      <td>809</td>\n",
       "      <td>Customer</td>\n",
       "      <td>No</td>\n",
       "      <td>Thursday</td>\n",
       "      <td>August</td>\n",
       "      <td>14</td>\n",
       "      <td>workweek</td>\n",
       "    </tr>\n",
       "    <tr>\n",
       "      <th>258622</th>\n",
       "      <td>2019-02-20 08:42:46.395</td>\n",
       "      <td>2019-02-20 08:48:39.009</td>\n",
       "      <td>61.0</td>\n",
       "      <td>Howard St at 8th St</td>\n",
       "      <td>37.776513</td>\n",
       "      <td>-122.411306</td>\n",
       "      <td>114.0</td>\n",
       "      <td>Rhode Island St at 17th St</td>\n",
       "      <td>37.764478</td>\n",
       "      <td>-122.402570</td>\n",
       "      <td>5973</td>\n",
       "      <td>Subscriber</td>\n",
       "      <td>No</td>\n",
       "      <td>Wednesday</td>\n",
       "      <td>February</td>\n",
       "      <td>5</td>\n",
       "      <td>workweek</td>\n",
       "    </tr>\n",
       "    <tr>\n",
       "      <th>2467398</th>\n",
       "      <td>2019-12-03 20:57:33.675</td>\n",
       "      <td>2019-12-03 21:03:40.619</td>\n",
       "      <td>247.0</td>\n",
       "      <td>Fulton St at Bancroft Way</td>\n",
       "      <td>37.867789</td>\n",
       "      <td>-122.265896</td>\n",
       "      <td>238.0</td>\n",
       "      <td>MLK Jr Way at University Ave</td>\n",
       "      <td>37.871719</td>\n",
       "      <td>-122.273068</td>\n",
       "      <td>3144</td>\n",
       "      <td>Subscriber</td>\n",
       "      <td>NaN</td>\n",
       "      <td>Tuesday</td>\n",
       "      <td>December</td>\n",
       "      <td>6</td>\n",
       "      <td>workweek</td>\n",
       "    </tr>\n",
       "  </tbody>\n",
       "</table>\n",
       "</div>"
      ],
      "text/plain": [
       "                     start_time                end_time  start_station_id  \\\n",
       "124513  2019-01-14 07:58:40.748 2019-01-14 08:13:01.814             241.0   \n",
       "589290  2019-03-07 09:34:21.738 2019-03-07 09:50:41.855              67.0   \n",
       "2477509 2019-12-02 08:23:09.547 2019-12-02 08:37:54.979             139.0   \n",
       "770705  2019-04-11 06:51:40.801 2019-04-11 07:07:48.908              17.0   \n",
       "2117187 2019-10-07 21:27:32.317 2019-10-07 21:34:55.373             126.0   \n",
       "1565203 2019-08-22 18:15:05.623 2019-08-22 18:29:59.249              62.0   \n",
       "258622  2019-02-20 08:42:46.395 2019-02-20 08:48:39.009              61.0   \n",
       "2467398 2019-12-03 20:57:33.675 2019-12-03 21:03:40.619             247.0   \n",
       "\n",
       "                                        start_station_name  \\\n",
       "124513                                  Ashby BART Station   \n",
       "589290   San Francisco Caltrain Station 2  (Townsend St...   \n",
       "2477509           Garfield Square (25th St at Harrison St)   \n",
       "770705    Embarcadero BART Station (Beale St at Market St)   \n",
       "2117187                                        Esprit Park   \n",
       "1565203                        Victoria Manalo Draves Park   \n",
       "258622                                 Howard St at 8th St   \n",
       "2467398                          Fulton St at Bancroft Way   \n",
       "\n",
       "         start_station_latitude  start_station_longitude  end_station_id  \\\n",
       "124513                37.852477              -122.270213           243.0   \n",
       "589290                37.776639              -122.395526            77.0   \n",
       "2477509               37.751017              -122.411901            80.0   \n",
       "770705                37.792251              -122.397086           126.0   \n",
       "2117187               37.761634              -122.390648            81.0   \n",
       "1565203               37.777791              -122.406432           123.0   \n",
       "258622                37.776513              -122.411306           114.0   \n",
       "2467398               37.867789              -122.265896           238.0   \n",
       "\n",
       "                     end_station_name  end_station_latitude  \\\n",
       "124513    Bancroft Way at College Ave             37.869360   \n",
       "589290           11th St at Natoma St             37.773507   \n",
       "2477509         Townsend St at 5th St             37.775235   \n",
       "770705                    Esprit Park             37.761634   \n",
       "2117187            Berry St at 4th St             37.775880   \n",
       "1565203          Folsom St at 19th St             37.760594   \n",
       "258622     Rhode Island St at 17th St             37.764478   \n",
       "2467398  MLK Jr Way at University Ave             37.871719   \n",
       "\n",
       "         end_station_longitude  bike_id   user_type bike_share_for_all_trip  \\\n",
       "124513             -122.254337     4519  Subscriber                      No   \n",
       "589290             -122.416040     3531    Customer                      No   \n",
       "2477509            -122.397437    11729    Customer                     NaN   \n",
       "770705             -122.390648     6771  Subscriber                      No   \n",
       "2117187            -122.393170    10729  Subscriber                      No   \n",
       "1565203            -122.414817      809    Customer                      No   \n",
       "258622             -122.402570     5973  Subscriber                      No   \n",
       "2467398            -122.273068     3144  Subscriber                     NaN   \n",
       "\n",
       "               day     month  duration_min      week  \n",
       "124513      Monday   January            14  workweek  \n",
       "589290    Thursday     March            16  workweek  \n",
       "2477509     Monday  December            14  workweek  \n",
       "770705    Thursday     April            16  workweek  \n",
       "2117187     Monday   October             7  workweek  \n",
       "1565203   Thursday    August            14  workweek  \n",
       "258622   Wednesday  February             5  workweek  \n",
       "2467398    Tuesday  December             6  workweek  "
      ]
     },
     "execution_count": 31,
     "metadata": {},
     "output_type": "execute_result"
    }
   ],
   "source": [
    "df_all_clean.sample(8)"
   ]
  },
  {
   "cell_type": "code",
   "execution_count": 32,
   "metadata": {},
   "outputs": [
    {
     "data": {
      "text/html": [
       "<div>\n",
       "<style scoped>\n",
       "    .dataframe tbody tr th:only-of-type {\n",
       "        vertical-align: middle;\n",
       "    }\n",
       "\n",
       "    .dataframe tbody tr th {\n",
       "        vertical-align: top;\n",
       "    }\n",
       "\n",
       "    .dataframe thead th {\n",
       "        text-align: right;\n",
       "    }\n",
       "</style>\n",
       "<table border=\"1\" class=\"dataframe\">\n",
       "  <thead>\n",
       "    <tr style=\"text-align: right;\">\n",
       "      <th></th>\n",
       "      <th>start_station_id</th>\n",
       "      <th>start_station_latitude</th>\n",
       "      <th>start_station_longitude</th>\n",
       "      <th>end_station_id</th>\n",
       "      <th>end_station_latitude</th>\n",
       "      <th>end_station_longitude</th>\n",
       "      <th>bike_id</th>\n",
       "      <th>duration_min</th>\n",
       "    </tr>\n",
       "  </thead>\n",
       "  <tbody>\n",
       "    <tr>\n",
       "      <th>count</th>\n",
       "      <td>2.407259e+06</td>\n",
       "      <td>2.407259e+06</td>\n",
       "      <td>2.407259e+06</td>\n",
       "      <td>2.407259e+06</td>\n",
       "      <td>2.407259e+06</td>\n",
       "      <td>2.407259e+06</td>\n",
       "      <td>2.407259e+06</td>\n",
       "      <td>2.407259e+06</td>\n",
       "    </tr>\n",
       "    <tr>\n",
       "      <th>mean</th>\n",
       "      <td>1.462493e+02</td>\n",
       "      <td>3.776938e+01</td>\n",
       "      <td>-1.223547e+02</td>\n",
       "      <td>1.424856e+02</td>\n",
       "      <td>3.776852e+01</td>\n",
       "      <td>-1.223505e+02</td>\n",
       "      <td>9.290408e+03</td>\n",
       "      <td>1.292218e+01</td>\n",
       "    </tr>\n",
       "    <tr>\n",
       "      <th>std</th>\n",
       "      <td>1.221971e+02</td>\n",
       "      <td>1.034811e-01</td>\n",
       "      <td>1.607865e-01</td>\n",
       "      <td>1.213367e+02</td>\n",
       "      <td>2.244698e-01</td>\n",
       "      <td>6.650935e-01</td>\n",
       "      <td>5.046242e+04</td>\n",
       "      <td>3.184651e+01</td>\n",
       "    </tr>\n",
       "    <tr>\n",
       "      <th>min</th>\n",
       "      <td>3.000000e+00</td>\n",
       "      <td>0.000000e+00</td>\n",
       "      <td>-1.224952e+02</td>\n",
       "      <td>3.000000e+00</td>\n",
       "      <td>0.000000e+00</td>\n",
       "      <td>-1.224952e+02</td>\n",
       "      <td>4.000000e+00</td>\n",
       "      <td>1.000000e+00</td>\n",
       "    </tr>\n",
       "    <tr>\n",
       "      <th>25%</th>\n",
       "      <td>4.700000e+01</td>\n",
       "      <td>3.777003e+01</td>\n",
       "      <td>-1.224130e+02</td>\n",
       "      <td>4.200000e+01</td>\n",
       "      <td>3.777041e+01</td>\n",
       "      <td>-1.224116e+02</td>\n",
       "      <td>1.877000e+03</td>\n",
       "      <td>5.000000e+00</td>\n",
       "    </tr>\n",
       "    <tr>\n",
       "      <th>50%</th>\n",
       "      <td>1.040000e+02</td>\n",
       "      <td>3.778053e+01</td>\n",
       "      <td>-1.223984e+02</td>\n",
       "      <td>1.010000e+02</td>\n",
       "      <td>3.778076e+01</td>\n",
       "      <td>-1.223981e+02</td>\n",
       "      <td>3.727000e+03</td>\n",
       "      <td>9.000000e+00</td>\n",
       "    </tr>\n",
       "    <tr>\n",
       "      <th>75%</th>\n",
       "      <td>2.420000e+02</td>\n",
       "      <td>3.779539e+01</td>\n",
       "      <td>-1.222948e+02</td>\n",
       "      <td>2.390000e+02</td>\n",
       "      <td>3.779625e+01</td>\n",
       "      <td>-1.222948e+02</td>\n",
       "      <td>7.171000e+03</td>\n",
       "      <td>1.400000e+01</td>\n",
       "    </tr>\n",
       "    <tr>\n",
       "      <th>max</th>\n",
       "      <td>4.980000e+02</td>\n",
       "      <td>4.551000e+01</td>\n",
       "      <td>0.000000e+00</td>\n",
       "      <td>4.980000e+02</td>\n",
       "      <td>4.551000e+01</td>\n",
       "      <td>0.000000e+00</td>\n",
       "      <td>9.984300e+05</td>\n",
       "      <td>1.437000e+03</td>\n",
       "    </tr>\n",
       "  </tbody>\n",
       "</table>\n",
       "</div>"
      ],
      "text/plain": [
       "       start_station_id  start_station_latitude  start_station_longitude  \\\n",
       "count      2.407259e+06            2.407259e+06             2.407259e+06   \n",
       "mean       1.462493e+02            3.776938e+01            -1.223547e+02   \n",
       "std        1.221971e+02            1.034811e-01             1.607865e-01   \n",
       "min        3.000000e+00            0.000000e+00            -1.224952e+02   \n",
       "25%        4.700000e+01            3.777003e+01            -1.224130e+02   \n",
       "50%        1.040000e+02            3.778053e+01            -1.223984e+02   \n",
       "75%        2.420000e+02            3.779539e+01            -1.222948e+02   \n",
       "max        4.980000e+02            4.551000e+01             0.000000e+00   \n",
       "\n",
       "       end_station_id  end_station_latitude  end_station_longitude  \\\n",
       "count    2.407259e+06          2.407259e+06           2.407259e+06   \n",
       "mean     1.424856e+02          3.776852e+01          -1.223505e+02   \n",
       "std      1.213367e+02          2.244698e-01           6.650935e-01   \n",
       "min      3.000000e+00          0.000000e+00          -1.224952e+02   \n",
       "25%      4.200000e+01          3.777041e+01          -1.224116e+02   \n",
       "50%      1.010000e+02          3.778076e+01          -1.223981e+02   \n",
       "75%      2.390000e+02          3.779625e+01          -1.222948e+02   \n",
       "max      4.980000e+02          4.551000e+01           0.000000e+00   \n",
       "\n",
       "            bike_id  duration_min  \n",
       "count  2.407259e+06  2.407259e+06  \n",
       "mean   9.290408e+03  1.292218e+01  \n",
       "std    5.046242e+04  3.184651e+01  \n",
       "min    4.000000e+00  1.000000e+00  \n",
       "25%    1.877000e+03  5.000000e+00  \n",
       "50%    3.727000e+03  9.000000e+00  \n",
       "75%    7.171000e+03  1.400000e+01  \n",
       "max    9.984300e+05  1.437000e+03  "
      ]
     },
     "execution_count": 32,
     "metadata": {},
     "output_type": "execute_result"
    }
   ],
   "source": [
    "df_all_clean.describe()"
   ]
  },
  {
   "cell_type": "code",
   "execution_count": null,
   "metadata": {},
   "outputs": [],
   "source": []
  },
  {
   "cell_type": "markdown",
   "metadata": {},
   "source": [
    "First we will calculate avarage bike ride duration and maximum duration of ride. Also, let's check distribution of bike usage duration in minutes. "
   ]
  },
  {
   "cell_type": "code",
   "execution_count": 33,
   "metadata": {},
   "outputs": [
    {
     "name": "stdout",
     "output_type": "stream",
     "text": [
      "Avarege bike ride duration is 12.92 minutes\n"
     ]
    }
   ],
   "source": [
    "avg = df_all_clean.duration_min.mean()\n",
    "print(\"Avarege bike ride duration is {0:.2f}\".format(avg),\"minutes\")"
   ]
  },
  {
   "cell_type": "code",
   "execution_count": 34,
   "metadata": {},
   "outputs": [
    {
     "name": "stdout",
     "output_type": "stream",
     "text": [
      "Maximum bike ride duration is 1437 minutes\n"
     ]
    }
   ],
   "source": [
    "max_dur=df_all_clean.duration_min.max()\n",
    "print(\"Maximum bike ride duration is {0:.0f}\".format(max_dur),\"minutes\")"
   ]
  },
  {
   "cell_type": "code",
   "execution_count": 35,
   "metadata": {},
   "outputs": [
    {
     "data": {
      "image/png": "[encoded data removed]",
      "text/plain": [
       "<Figure size 864x360 with 1 Axes>"
      ]
     },
     "metadata": {
      "needs_background": "light"
     },
     "output_type": "display_data"
    }
   ],
   "source": [
    "# plotting distribution of bike ride duration\n",
    "plt.figure(figsize =(12,5))\n",
    "\n",
    "base_color = sns.color_palette()[0]\n",
    "\n",
    "plt.subplot(1,2,1)\n",
    "bin_edges = np.arange(0, df_all_clean.duration_min.max()+1, 1)\n",
    "plt.hist(data=df_all_clean, x= \"duration_min\", color = base_color, bins=bin_edges);\n",
    "plt.xscale(\"log\")\n",
    "tick_locs = [1,2,6,20,70, 200, 600,1500]\n",
    "plt.xticks(tick_locs, tick_locs);\n",
    "plt.title(\"Bike ride distribution\")\n",
    "plt.xlabel(\"Duration (min)\")\n",
    "plt.ylabel(\"Number of rides\");\n"
   ]
  },
  {
   "cell_type": "markdown",
   "metadata": {},
   "source": [
    "Since there are some outliers on duration distribution we should limit x axis values to 60 minutes"
   ]
  },
  {
   "cell_type": "code",
   "execution_count": 36,
   "metadata": {},
   "outputs": [
    {
     "data": {
      "image/png": "[encoded data removed]",
      "text/plain": [
       "<Figure size 432x288 with 1 Axes>"
      ]
     },
     "metadata": {
      "needs_background": "light"
     },
     "output_type": "display_data"
    }
   ],
   "source": [
    "# plotting distribution of bike ride duration with limit on x axis\n",
    "bin_size = np.arange(0, df_all_clean[\"duration_min\"].max() + 1 , 1)\n",
    "\n",
    "# duration distribution in min\n",
    "plt.hist(data = df_all_clean, x=\"duration_min\", bins = bin_size, color = base_color)\n",
    "plt.xlim(0, 60)\n",
    "plt.title(\"Bike ride distribution (limted to 60 min)\")\n",
    "plt.xlabel(\"Duration (min)\")\n",
    "plt.ylabel(\"Number of rides\");"
   ]
  },
  {
   "cell_type": "markdown",
   "metadata": {},
   "source": [
    "Comment: As we can see from above graph, distribution is right skewed. 75% of results are below 14 minutes\n",
    "\n"
   ]
  },
  {
   "cell_type": "code",
   "execution_count": null,
   "metadata": {},
   "outputs": [],
   "source": []
  },
  {
   "cell_type": "markdown",
   "metadata": {},
   "source": [
    "Distribution  of bike rides by day of the week"
   ]
  },
  {
   "cell_type": "code",
   "execution_count": 37,
   "metadata": {},
   "outputs": [
    {
     "data": {
      "image/png": "[encoded data removed]",
      "text/plain": [
       "<Figure size 432x288 with 1 Axes>"
      ]
     },
     "metadata": {
      "needs_background": "light"
     },
     "output_type": "display_data"
    }
   ],
   "source": [
    "# plotting distribution of rides by day of the week\n",
    "sns.countplot(data=df_all_clean, x= \"day\",order = [\"Monday\",\"Tuesday\",\"Wednesday\",\"Thursday\",\"Friday\",\n",
    "                                                  \"Saturday\",\"Sunday\"], color=base_color)\n",
    "plt.xticks(rotation=45)\n",
    "plt.title(\"Bike rides by weekday\")\n",
    "plt.xlabel(\"Days\")\n",
    "plt.ylabel(\"Number of rides\");"
   ]
  },
  {
   "cell_type": "markdown",
   "metadata": {},
   "source": [
    "Comment: It looks like mostly peoply use bikes on working days. We can assume the purpose of bike sharing service  is to get to the work"
   ]
  },
  {
   "cell_type": "code",
   "execution_count": null,
   "metadata": {},
   "outputs": [],
   "source": []
  },
  {
   "cell_type": "markdown",
   "metadata": {},
   "source": [
    "Bike ride distribution by month"
   ]
  },
  {
   "cell_type": "code",
   "execution_count": 38,
   "metadata": {},
   "outputs": [
    {
     "data": {
      "image/png": "[encoded data removed]",
      "text/plain": [
       "<Figure size 432x288 with 1 Axes>"
      ]
     },
     "metadata": {
      "needs_background": "light"
     },
     "output_type": "display_data"
    }
   ],
   "source": [
    "# plotting distribution of bike rides by month\n",
    "sns.countplot(data=df_all_clean, x= \"month\", color=base_color)\n",
    "plt.xticks(rotation=45)\n",
    "plt.title(\"Bike rides by month\")\n",
    "plt.xlabel(\"Month\")\n",
    "plt.ylabel(\"Number of rides\");"
   ]
  },
  {
   "cell_type": "markdown",
   "metadata": {},
   "source": [
    "Comment: Highest bike rides numbers are in March,April and October, and as we would expect least usage is in December "
   ]
  },
  {
   "cell_type": "code",
   "execution_count": null,
   "metadata": {},
   "outputs": [],
   "source": []
  },
  {
   "cell_type": "markdown",
   "metadata": {},
   "source": [
    "There are two types of users, Subscriber(member users) and Customer(casual users). Let's see the difference in ride duration between these two groups of users "
   ]
  },
  {
   "cell_type": "code",
   "execution_count": 39,
   "metadata": {
    "scrolled": true
   },
   "outputs": [
    {
     "data": {
      "image/png": "[encoded data removed]",
      "text/plain": [
       "<Figure size 432x288 with 1 Axes>"
      ]
     },
     "metadata": {
      "needs_background": "light"
     },
     "output_type": "display_data"
    }
   ],
   "source": [
    "# using seaborn countplot for ploting distribution\n",
    "sns.countplot(data=df_all_clean, x=\"user_type\")\n",
    "plt.title(\"Bike rides by user type\")\n",
    "plt.xlabel(\"Type of user\")\n",
    "plt.ylabel(\"Number of rides\");"
   ]
  },
  {
   "cell_type": "markdown",
   "metadata": {},
   "source": [
    "Comment: Most of Bay Wheels users come from Subscriber group. These are regular customers"
   ]
  },
  {
   "cell_type": "code",
   "execution_count": null,
   "metadata": {},
   "outputs": [],
   "source": []
  },
  {
   "cell_type": "markdown",
   "metadata": {},
   "source": [
    "Bay Wheels users have option to share their trip. Checking if bike riders use this option "
   ]
  },
  {
   "cell_type": "code",
   "execution_count": 40,
   "metadata": {},
   "outputs": [
    {
     "data": {
      "image/png": "[encoded data removed]",
      "text/plain": [
       "<Figure size 432x288 with 1 Axes>"
      ]
     },
     "metadata": {
      "needs_background": "light"
     },
     "output_type": "display_data"
    }
   ],
   "source": [
    "# using seaborn countplot for ploting distribution\n",
    "sns.countplot(data=df_all_clean, x=\"bike_share_for_all_trip\", color=base_color)\n",
    "plt.title(\"Sharing or Not sharing bike ride\")\n",
    "plt.xlabel(\"Bike ride share\")\n",
    "plt.ylabel(\"Number of rides\");"
   ]
  },
  {
   "cell_type": "markdown",
   "metadata": {},
   "source": [
    "Comment: Majority of users do not share their rides"
   ]
  },
  {
   "cell_type": "code",
   "execution_count": null,
   "metadata": {},
   "outputs": [],
   "source": []
  },
  {
   "cell_type": "markdown",
   "metadata": {},
   "source": [
    "## Bivariate Exploration\n",
    "\n",
    "> In this section, investigating relationships between pairs of variables dataset. "
   ]
  },
  {
   "cell_type": "markdown",
   "metadata": {},
   "source": [
    "Let's check if there is difference in bike ride duration between two user types, Subscribers and Customers"
   ]
  },
  {
   "cell_type": "code",
   "execution_count": 41,
   "metadata": {},
   "outputs": [
    {
     "data": {
      "image/png": "[encoded data removed]",
      "text/plain": [
       "<Figure size 432x288 with 1 Axes>"
      ]
     },
     "metadata": {
      "needs_background": "light"
     },
     "output_type": "display_data"
    }
   ],
   "source": [
    "# we will use seaborn boxplot for plottting data for two categorical variables\n",
    "sns.boxplot(data=df_all_clean, x = \"user_type\",y=\"duration_min\")\n",
    "#limiting y axis for ride duration to 60 minutes\n",
    "plt.ylim(0,60)\n",
    "plt.title(\"Ride duration time by user type\")\n",
    "plt.xlabel(\"Type of user\")\n",
    "plt.ylabel(\"Ride duration (min)\");"
   ]
  },
  {
   "cell_type": "markdown",
   "metadata": {},
   "source": [
    "Comment: Subscribers ride bikes for shorter period of time then Customers type of users"
   ]
  },
  {
   "cell_type": "code",
   "execution_count": null,
   "metadata": {},
   "outputs": [],
   "source": []
  },
  {
   "cell_type": "markdown",
   "metadata": {},
   "source": [
    "Let's see distribution of riding time comparing workdays and weekend"
   ]
  },
  {
   "cell_type": "code",
   "execution_count": 42,
   "metadata": {},
   "outputs": [
    {
     "data": {
      "image/png": "[encoded data removed]",
      "text/plain": [
       "<Figure size 432x288 with 1 Axes>"
      ]
     },
     "metadata": {
      "needs_background": "light"
     },
     "output_type": "display_data"
    }
   ],
   "source": [
    "# using seaborn boxplot for ploting distribution\n",
    "sns.boxplot(data=df_all_clean, x=\"week\", y=\"duration_min\")\n",
    "#limiting y axis for ride duration to 60 minutes\n",
    "plt.ylim(0,60)\n",
    "\n",
    "plt.title(\"Ride duration time by weekday\")\n",
    "plt.xlabel(\"Weekday\")\n",
    "plt.ylabel(\"Ride duration (min)\");"
   ]
  },
  {
   "cell_type": "markdown",
   "metadata": {},
   "source": [
    "Comment: From above chart we can see that there is a slight difference in  ride duration comparing workdays and weekend. Users tend to ride bike for \n",
    "longer time period during weekend"
   ]
  },
  {
   "cell_type": "code",
   "execution_count": null,
   "metadata": {},
   "outputs": [],
   "source": []
  },
  {
   "cell_type": "markdown",
   "metadata": {},
   "source": [
    "## Multivariate Exploration\n",
    "\n"
   ]
  },
  {
   "cell_type": "code",
   "execution_count": 43,
   "metadata": {},
   "outputs": [
    {
     "data": {
      "text/html": [
       "<div>\n",
       "<style scoped>\n",
       "    .dataframe tbody tr th:only-of-type {\n",
       "        vertical-align: middle;\n",
       "    }\n",
       "\n",
       "    .dataframe tbody tr th {\n",
       "        vertical-align: top;\n",
       "    }\n",
       "\n",
       "    .dataframe thead th {\n",
       "        text-align: right;\n",
       "    }\n",
       "</style>\n",
       "<table border=\"1\" class=\"dataframe\">\n",
       "  <thead>\n",
       "    <tr style=\"text-align: right;\">\n",
       "      <th></th>\n",
       "      <th>start_time</th>\n",
       "      <th>end_time</th>\n",
       "      <th>start_station_id</th>\n",
       "      <th>start_station_name</th>\n",
       "      <th>start_station_latitude</th>\n",
       "      <th>start_station_longitude</th>\n",
       "      <th>end_station_id</th>\n",
       "      <th>end_station_name</th>\n",
       "      <th>end_station_latitude</th>\n",
       "      <th>end_station_longitude</th>\n",
       "      <th>bike_id</th>\n",
       "      <th>user_type</th>\n",
       "      <th>bike_share_for_all_trip</th>\n",
       "      <th>day</th>\n",
       "      <th>month</th>\n",
       "      <th>duration_min</th>\n",
       "      <th>week</th>\n",
       "    </tr>\n",
       "  </thead>\n",
       "  <tbody>\n",
       "    <tr>\n",
       "      <th>0</th>\n",
       "      <td>2019-01-31 17:57:44.613</td>\n",
       "      <td>2019-02-01 16:24:49.864</td>\n",
       "      <td>229.0</td>\n",
       "      <td>Foothill Blvd at 42nd Ave</td>\n",
       "      <td>37.775745</td>\n",
       "      <td>-122.213037</td>\n",
       "      <td>196.0</td>\n",
       "      <td>Grand Ave at Perkins St</td>\n",
       "      <td>37.808894</td>\n",
       "      <td>-122.256460</td>\n",
       "      <td>4861</td>\n",
       "      <td>Subscriber</td>\n",
       "      <td>No</td>\n",
       "      <td>Thursday</td>\n",
       "      <td>January</td>\n",
       "      <td>1347</td>\n",
       "      <td>workweek</td>\n",
       "    </tr>\n",
       "    <tr>\n",
       "      <th>1</th>\n",
       "      <td>2019-01-31 20:58:33.886</td>\n",
       "      <td>2019-02-01 15:16:54.173</td>\n",
       "      <td>4.0</td>\n",
       "      <td>Cyril Magnin St at Ellis St</td>\n",
       "      <td>37.785881</td>\n",
       "      <td>-122.408915</td>\n",
       "      <td>134.0</td>\n",
       "      <td>Valencia St at 24th St</td>\n",
       "      <td>37.752428</td>\n",
       "      <td>-122.420628</td>\n",
       "      <td>5506</td>\n",
       "      <td>Subscriber</td>\n",
       "      <td>No</td>\n",
       "      <td>Thursday</td>\n",
       "      <td>January</td>\n",
       "      <td>1098</td>\n",
       "      <td>workweek</td>\n",
       "    </tr>\n",
       "    <tr>\n",
       "      <th>2</th>\n",
       "      <td>2019-01-31 18:06:52.924</td>\n",
       "      <td>2019-02-01 11:30:46.530</td>\n",
       "      <td>245.0</td>\n",
       "      <td>Downtown Berkeley BART</td>\n",
       "      <td>37.870139</td>\n",
       "      <td>-122.268422</td>\n",
       "      <td>157.0</td>\n",
       "      <td>65th St at Hollis St</td>\n",
       "      <td>37.846784</td>\n",
       "      <td>-122.291376</td>\n",
       "      <td>2717</td>\n",
       "      <td>Customer</td>\n",
       "      <td>No</td>\n",
       "      <td>Thursday</td>\n",
       "      <td>January</td>\n",
       "      <td>1043</td>\n",
       "      <td>workweek</td>\n",
       "    </tr>\n",
       "    <tr>\n",
       "      <th>3</th>\n",
       "      <td>2019-01-31 19:46:09.719</td>\n",
       "      <td>2019-02-01 08:10:50.318</td>\n",
       "      <td>85.0</td>\n",
       "      <td>Church St at Duboce Ave</td>\n",
       "      <td>37.770083</td>\n",
       "      <td>-122.429156</td>\n",
       "      <td>53.0</td>\n",
       "      <td>Grove St at Divisadero</td>\n",
       "      <td>37.775946</td>\n",
       "      <td>-122.437777</td>\n",
       "      <td>4557</td>\n",
       "      <td>Customer</td>\n",
       "      <td>No</td>\n",
       "      <td>Thursday</td>\n",
       "      <td>January</td>\n",
       "      <td>744</td>\n",
       "      <td>workweek</td>\n",
       "    </tr>\n",
       "    <tr>\n",
       "      <th>4</th>\n",
       "      <td>2019-01-31 14:19:01.541</td>\n",
       "      <td>2019-02-01 07:10:51.065</td>\n",
       "      <td>16.0</td>\n",
       "      <td>Steuart St at Market St</td>\n",
       "      <td>37.794130</td>\n",
       "      <td>-122.394430</td>\n",
       "      <td>28.0</td>\n",
       "      <td>The Embarcadero at Bryant St</td>\n",
       "      <td>37.787168</td>\n",
       "      <td>-122.388098</td>\n",
       "      <td>2100</td>\n",
       "      <td>Customer</td>\n",
       "      <td>No</td>\n",
       "      <td>Thursday</td>\n",
       "      <td>January</td>\n",
       "      <td>1011</td>\n",
       "      <td>workweek</td>\n",
       "    </tr>\n",
       "  </tbody>\n",
       "</table>\n",
       "</div>"
      ],
      "text/plain": [
       "               start_time                end_time  start_station_id  \\\n",
       "0 2019-01-31 17:57:44.613 2019-02-01 16:24:49.864             229.0   \n",
       "1 2019-01-31 20:58:33.886 2019-02-01 15:16:54.173               4.0   \n",
       "2 2019-01-31 18:06:52.924 2019-02-01 11:30:46.530             245.0   \n",
       "3 2019-01-31 19:46:09.719 2019-02-01 08:10:50.318              85.0   \n",
       "4 2019-01-31 14:19:01.541 2019-02-01 07:10:51.065              16.0   \n",
       "\n",
       "            start_station_name  start_station_latitude  \\\n",
       "0    Foothill Blvd at 42nd Ave               37.775745   \n",
       "1  Cyril Magnin St at Ellis St               37.785881   \n",
       "2       Downtown Berkeley BART               37.870139   \n",
       "3      Church St at Duboce Ave               37.770083   \n",
       "4      Steuart St at Market St               37.794130   \n",
       "\n",
       "   start_station_longitude  end_station_id              end_station_name  \\\n",
       "0              -122.213037           196.0       Grand Ave at Perkins St   \n",
       "1              -122.408915           134.0        Valencia St at 24th St   \n",
       "2              -122.268422           157.0          65th St at Hollis St   \n",
       "3              -122.429156            53.0        Grove St at Divisadero   \n",
       "4              -122.394430            28.0  The Embarcadero at Bryant St   \n",
       "\n",
       "   end_station_latitude  end_station_longitude  bike_id   user_type  \\\n",
       "0             37.808894            -122.256460     4861  Subscriber   \n",
       "1             37.752428            -122.420628     5506  Subscriber   \n",
       "2             37.846784            -122.291376     2717    Customer   \n",
       "3             37.775946            -122.437777     4557    Customer   \n",
       "4             37.787168            -122.388098     2100    Customer   \n",
       "\n",
       "  bike_share_for_all_trip       day    month  duration_min      week  \n",
       "0                      No  Thursday  January          1347  workweek  \n",
       "1                      No  Thursday  January          1098  workweek  \n",
       "2                      No  Thursday  January          1043  workweek  \n",
       "3                      No  Thursday  January           744  workweek  \n",
       "4                      No  Thursday  January          1011  workweek  "
      ]
     },
     "execution_count": 43,
     "metadata": {},
     "output_type": "execute_result"
    }
   ],
   "source": [
    "df_all_clean.head()"
   ]
  },
  {
   "cell_type": "code",
   "execution_count": null,
   "metadata": {},
   "outputs": [],
   "source": []
  },
  {
   "cell_type": "markdown",
   "metadata": {},
   "source": [
    "Let's analyse distribution of riding duration comparing user types by day of the week."
   ]
  },
  {
   "cell_type": "code",
   "execution_count": 44,
   "metadata": {},
   "outputs": [
    {
     "data": {
      "image/png": "[encoded data removed]",
      "text/plain": [
       "<Figure size 432x288 with 1 Axes>"
      ]
     },
     "metadata": {
      "needs_background": "light"
     },
     "output_type": "display_data"
    }
   ],
   "source": [
    "# using seaborn barplot with three variables day, duration and user type\n",
    "sns.barplot(data = df_all_clean, x=\"day\", y=\"duration_min\",hue= \"user_type\",order = [\"Monday\",\"Tuesday\",\"Wednesday\",\"Thursday\",\n",
    "                                                                                \"Friday\",\"Saturday\",\"Sunday\"],  dodge = 0.3)\n",
    "plt.xticks(rotation=45)\n",
    "plt.title(\"Two users type ride duration by weekday\")\n",
    "plt.xlabel(\"Weekday\")\n",
    "plt.ylabel(\"Ride duration (min)\");"
   ]
  },
  {
   "cell_type": "markdown",
   "metadata": {},
   "source": [
    "Comment: On weekend both type of users ride bike for longer time"
   ]
  },
  {
   "cell_type": "code",
   "execution_count": null,
   "metadata": {},
   "outputs": [],
   "source": []
  },
  {
   "cell_type": "markdown",
   "metadata": {},
   "source": [
    "Analysing distribution of ride duration between two types of users compering the mont of the year "
   ]
  },
  {
   "cell_type": "code",
   "execution_count": 45,
   "metadata": {},
   "outputs": [
    {
     "data": {
      "image/png": "[encoded data removed]",
      "text/plain": [
       "<Figure size 432x288 with 1 Axes>"
      ]
     },
     "metadata": {
      "needs_background": "light"
     },
     "output_type": "display_data"
    }
   ],
   "source": [
    "# using seaborn pointplot\n",
    "ax = sns.pointplot(data = df_all_clean, x = \"month\", y = \"duration_min\", hue=\"user_type\",\n",
    "                  dodge = 0.3, linestyles = \"\")\n",
    "plt.xticks(rotation=45)\n",
    "plt.title(\"Two users type ride duration by month\")\n",
    "plt.xlabel(\"Month\")\n",
    "plt.ylabel(\"Ride duration (min)\");"
   ]
  },
  {
   "cell_type": "markdown",
   "metadata": {},
   "source": [
    "Comment: \n",
    "In December, both type of users, Subscribers and Customers ride bike for shorter time period, while during the rest of the year\n",
    "Customers tend to ride bike longer"
   ]
  },
  {
   "cell_type": "code",
   "execution_count": null,
   "metadata": {},
   "outputs": [],
   "source": []
  }
 ],
 "metadata": {
  "kernelspec": {
   "display_name": "Python 3",
   "language": "python",
   "name": "python3"
  },
  "language_info": {
   "codemirror_mode": {
    "name": "ipython",
    "version": 3
   },
   "file_extension": ".py",
   "mimetype": "text/x-python",
   "name": "python",
   "nbconvert_exporter": "python",
   "pygments_lexer": "ipython3",
   "version": "3.7.7"
  }
 },
 "nbformat": 4,
 "nbformat_minor": 2
}
